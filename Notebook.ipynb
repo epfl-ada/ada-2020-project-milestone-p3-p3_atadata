{
 "cells": [
  {
   "cell_type": "code",
   "execution_count": 4,
   "metadata": {},
   "outputs": [],
   "source": [
    "%matplotlib inline\n",
    "\n",
    "import json\n",
    "import os\n",
    "import matplotlib.pyplot as plt\n",
    "import pandas as pd\n",
    "import numpy as np\n",
    "import tensorflow as tf\n",
    "import random\n",
    "\n",
    "from sklearn.preprocessing import StandardScaler\n",
    "from sklearn.model_selection import train_test_split\n",
    "from sklearn.utils import resample\n",
    "\n",
    "from sklearn.linear_model import LogisticRegression"
   ]
  },
  {
   "cell_type": "code",
   "execution_count": 5,
   "metadata": {},
   "outputs": [],
   "source": [
    "from utils.preprocess_data import preprocessing, get_nb_msg, treat_msg_season\n",
    "from utils.evaluation_utils import confidence_interval, evaluate_model\n",
    "from utils.models import get_class_weights"
   ]
  },
  {
   "cell_type": "markdown",
   "metadata": {},
   "source": [
    "# Getting the dataset"
   ]
  },
  {
   "cell_type": "markdown",
   "metadata": {},
   "source": [
    "We will use here the dataset provided by the authors we will create a helper function to extract the features that we want."
   ]
  },
  {
   "cell_type": "code",
   "execution_count": 6,
   "metadata": {},
   "outputs": [
    {
     "data": {
      "text/html": [
       "<div>\n",
       "<style scoped>\n",
       "    .dataframe tbody tr th:only-of-type {\n",
       "        vertical-align: middle;\n",
       "    }\n",
       "\n",
       "    .dataframe tbody tr th {\n",
       "        vertical-align: top;\n",
       "    }\n",
       "\n",
       "    .dataframe thead th {\n",
       "        text-align: right;\n",
       "    }\n",
       "</style>\n",
       "<table border=\"1\" class=\"dataframe\">\n",
       "  <thead>\n",
       "    <tr style=\"text-align: right;\">\n",
       "      <th></th>\n",
       "      <th></th>\n",
       "      <th>sentiment_positive</th>\n",
       "      <th>sentiment_neutral</th>\n",
       "      <th>sentiment_negative</th>\n",
       "      <th>n_requests</th>\n",
       "      <th>frequent_words</th>\n",
       "      <th>n_words</th>\n",
       "      <th>politeness</th>\n",
       "      <th>n_sentences</th>\n",
       "      <th>n_disc_words</th>\n",
       "      <th>disc_words</th>\n",
       "      <th>all_words</th>\n",
       "      <th>role</th>\n",
       "      <th>betrayal</th>\n",
       "      <th>season_betrayal</th>\n",
       "      <th>season_before_betrayal</th>\n",
       "      <th>friendship_length</th>\n",
       "    </tr>\n",
       "    <tr>\n",
       "      <th>idx</th>\n",
       "      <th>season</th>\n",
       "      <th></th>\n",
       "      <th></th>\n",
       "      <th></th>\n",
       "      <th></th>\n",
       "      <th></th>\n",
       "      <th></th>\n",
       "      <th></th>\n",
       "      <th></th>\n",
       "      <th></th>\n",
       "      <th></th>\n",
       "      <th></th>\n",
       "      <th></th>\n",
       "      <th></th>\n",
       "      <th></th>\n",
       "      <th></th>\n",
       "      <th></th>\n",
       "    </tr>\n",
       "  </thead>\n",
       "  <tbody>\n",
       "    <tr>\n",
       "      <th rowspan=\"5\" valign=\"top\">0</th>\n",
       "      <th>1906.5</th>\n",
       "      <td>0</td>\n",
       "      <td>0</td>\n",
       "      <td>2</td>\n",
       "      <td>1</td>\n",
       "      <td>[just, bot, ,, ., take, unit, war, retreat, di...</td>\n",
       "      <td>35</td>\n",
       "      <td>0.367200</td>\n",
       "      <td>2</td>\n",
       "      <td>7</td>\n",
       "      <td>[just, war, prefer, really, light, retreat, in...</td>\n",
       "      <td>[that, prefer, from, mos, can, really, ., i'd,...</td>\n",
       "      <td>victim</td>\n",
       "      <td>True</td>\n",
       "      <td>1909.5</td>\n",
       "      <td>6.0</td>\n",
       "      <td>3.0</td>\n",
       "    </tr>\n",
       "    <tr>\n",
       "      <th>1906.5</th>\n",
       "      <td>1</td>\n",
       "      <td>1</td>\n",
       "      <td>4</td>\n",
       "      <td>2</td>\n",
       "      <td>[armies, north, the, armies, on, ., your, with...</td>\n",
       "      <td>77</td>\n",
       "      <td>0.932326</td>\n",
       "      <td>6</td>\n",
       "      <td>16</td>\n",
       "      <td>[against, lose, even, loss, support, attack, g...</td>\n",
       "      <td>[we, after, an, can, mos, lose, won't, france,...</td>\n",
       "      <td>victim</td>\n",
       "      <td>True</td>\n",
       "      <td>1909.5</td>\n",
       "      <td>6.0</td>\n",
       "      <td>3.0</td>\n",
       "    </tr>\n",
       "    <tr>\n",
       "      <th>1906.5</th>\n",
       "      <td>1</td>\n",
       "      <td>2</td>\n",
       "      <td>1</td>\n",
       "      <td>2</td>\n",
       "      <td>[?, going, for, ser, balance, a, to, of, give,...</td>\n",
       "      <td>55</td>\n",
       "      <td>0.983373</td>\n",
       "      <td>4</td>\n",
       "      <td>14</td>\n",
       "      <td>[rather, light, would, lose, retreat, could, p...</td>\n",
       "      <td>[after, ?, mos, lose, a, thanks, ., i'd, it, p...</td>\n",
       "      <td>victim</td>\n",
       "      <td>True</td>\n",
       "      <td>1909.5</td>\n",
       "      <td>6.0</td>\n",
       "      <td>3.0</td>\n",
       "    </tr>\n",
       "    <tr>\n",
       "      <th>1906.5</th>\n",
       "      <td>4</td>\n",
       "      <td>2</td>\n",
       "      <td>13</td>\n",
       "      <td>8</td>\n",
       "      <td>[only, he, alb, ., forced, italy's, is, be, .,...</td>\n",
       "      <td>313</td>\n",
       "      <td>0.957072</td>\n",
       "      <td>19</td>\n",
       "      <td>71</td>\n",
       "      <td>[so, so, before, while, before, still, as long...</td>\n",
       "      <td>[a, stuck, while, lack, build, like, with, all...</td>\n",
       "      <td>victim</td>\n",
       "      <td>True</td>\n",
       "      <td>1909.5</td>\n",
       "      <td>6.0</td>\n",
       "      <td>3.0</td>\n",
       "    </tr>\n",
       "    <tr>\n",
       "      <th>1906.5</th>\n",
       "      <td>1</td>\n",
       "      <td>3</td>\n",
       "      <td>5</td>\n",
       "      <td>7</td>\n",
       "      <td>[more, let, keep, we, side, we, don't, to, ., ...</td>\n",
       "      <td>146</td>\n",
       "      <td>0.832023</td>\n",
       "      <td>9</td>\n",
       "      <td>38</td>\n",
       "      <td>[before, still, move, ally, will, want, will, ...</td>\n",
       "      <td>[prevent, a, with, our, be, retreat, didn't, ,...</td>\n",
       "      <td>betrayer</td>\n",
       "      <td>True</td>\n",
       "      <td>1909.5</td>\n",
       "      <td>6.0</td>\n",
       "      <td>3.0</td>\n",
       "    </tr>\n",
       "  </tbody>\n",
       "</table>\n",
       "</div>"
      ],
      "text/plain": [
       "            sentiment_positive  sentiment_neutral  sentiment_negative  \\\n",
       "idx season                                                              \n",
       "0   1906.5                   0                  0                   2   \n",
       "    1906.5                   1                  1                   4   \n",
       "    1906.5                   1                  2                   1   \n",
       "    1906.5                   4                  2                  13   \n",
       "    1906.5                   1                  3                   5   \n",
       "\n",
       "            n_requests                                     frequent_words  \\\n",
       "idx season                                                                  \n",
       "0   1906.5           1  [just, bot, ,, ., take, unit, war, retreat, di...   \n",
       "    1906.5           2  [armies, north, the, armies, on, ., your, with...   \n",
       "    1906.5           2  [?, going, for, ser, balance, a, to, of, give,...   \n",
       "    1906.5           8  [only, he, alb, ., forced, italy's, is, be, .,...   \n",
       "    1906.5           7  [more, let, keep, we, side, we, don't, to, ., ...   \n",
       "\n",
       "            n_words  politeness  n_sentences  n_disc_words  \\\n",
       "idx season                                                   \n",
       "0   1906.5       35    0.367200            2             7   \n",
       "    1906.5       77    0.932326            6            16   \n",
       "    1906.5       55    0.983373            4            14   \n",
       "    1906.5      313    0.957072           19            71   \n",
       "    1906.5      146    0.832023            9            38   \n",
       "\n",
       "                                                   disc_words  \\\n",
       "idx season                                                      \n",
       "0   1906.5  [just, war, prefer, really, light, retreat, in...   \n",
       "    1906.5  [against, lose, even, loss, support, attack, g...   \n",
       "    1906.5  [rather, light, would, lose, retreat, could, p...   \n",
       "    1906.5  [so, so, before, while, before, still, as long...   \n",
       "    1906.5  [before, still, move, ally, will, want, will, ...   \n",
       "\n",
       "                                                    all_words      role  \\\n",
       "idx season                                                                \n",
       "0   1906.5  [that, prefer, from, mos, can, really, ., i'd,...    victim   \n",
       "    1906.5  [we, after, an, can, mos, lose, won't, france,...    victim   \n",
       "    1906.5  [after, ?, mos, lose, a, thanks, ., i'd, it, p...    victim   \n",
       "    1906.5  [a, stuck, while, lack, build, like, with, all...    victim   \n",
       "    1906.5  [prevent, a, with, our, be, retreat, didn't, ,...  betrayer   \n",
       "\n",
       "            betrayal  season_betrayal  season_before_betrayal  \\\n",
       "idx season                                                      \n",
       "0   1906.5      True           1909.5                     6.0   \n",
       "    1906.5      True           1909.5                     6.0   \n",
       "    1906.5      True           1909.5                     6.0   \n",
       "    1906.5      True           1909.5                     6.0   \n",
       "    1906.5      True           1909.5                     6.0   \n",
       "\n",
       "            friendship_length  \n",
       "idx season                     \n",
       "0   1906.5                3.0  \n",
       "    1906.5                3.0  \n",
       "    1906.5                3.0  \n",
       "    1906.5                3.0  \n",
       "    1906.5                3.0  "
      ]
     },
     "execution_count": 6,
     "metadata": {},
     "output_type": "execute_result"
    }
   ],
   "source": [
    "data = pd.read_json(\"diplomacy_data/diplomacy_data.json\")\n",
    "df = preprocessing(data)\n",
    "df.head()"
   ]
  },
  {
   "cell_type": "code",
   "execution_count": 35,
   "metadata": {},
   "outputs": [
    {
     "data": {
      "image/png": "[encoded data removed]",
      "text/plain": [
       "<Figure size 576x360 with 1 Axes>"
      ]
     },
     "metadata": {
      "needs_background": "light"
     },
     "output_type": "display_data"
    }
   ],
   "source": [
    "number_seasons_before_betrayal = df[(df[\"betrayal\"]==True) & (df[\"role\"] == \"betrayer\")].reset_index().groupby('season_before_betrayal').count()['idx']\n",
    "\n",
    "plt.figure(figsize=(8, 5))\n",
    "ax = number_seasons_before_betrayal.plot(kind='bar')\n",
    "ax.set_xlabel(\"X seasons before betrayal\")\n",
    "ax.set_ylabel('Number of seasons')\n",
    "ax.set_title('Number of seasons at same distance from betrayal', fontsize=14)\n",
    "# ax.set_xticklabels(list(number_seasons_before_betrayal))\n",
    "\n",
    "for rect, label in zip(ax.patches, list(number_seasons_before_betrayal)):\n",
    "    height = rect.get_height()\n",
    "    ax.text(rect.get_x() + rect.get_width() / 2, height + 5, label,\n",
    "            ha='center', va='bottom')\n",
    "\n",
    "plt.show()"
   ]
  },
  {
   "cell_type": "markdown",
   "metadata": {},
   "source": [
    "There are 367 instances of 1 season before betrayal, 379 instances of 2 seasons before betrayal etc."
   ]
  },
  {
   "cell_type": "markdown",
   "metadata": {},
   "source": [
    "# Predict Imminent Betrayal"
   ]
  },
  {
   "cell_type": "markdown",
   "metadata": {},
   "source": [
    "Done similar to the authors in Section 5 to see if we can improve results. "
   ]
  },
  {
   "cell_type": "markdown",
   "metadata": {},
   "source": [
    "## Models"
   ]
  },
  {
   "cell_type": "markdown",
   "metadata": {},
   "source": [
    "### Prepare input data"
   ]
  },
  {
   "cell_type": "code",
   "execution_count": 8,
   "metadata": {},
   "outputs": [
    {
     "data": {
      "text/html": [
       "<div>\n",
       "<style scoped>\n",
       "    .dataframe tbody tr th:only-of-type {\n",
       "        vertical-align: middle;\n",
       "    }\n",
       "\n",
       "    .dataframe tbody tr th {\n",
       "        vertical-align: top;\n",
       "    }\n",
       "\n",
       "    .dataframe thead th {\n",
       "        text-align: right;\n",
       "    }\n",
       "</style>\n",
       "<table border=\"1\" class=\"dataframe\">\n",
       "  <thead>\n",
       "    <tr style=\"text-align: right;\">\n",
       "      <th></th>\n",
       "      <th></th>\n",
       "      <th></th>\n",
       "      <th>sentiment_positive</th>\n",
       "      <th>sentiment_neutral</th>\n",
       "      <th>sentiment_negative</th>\n",
       "      <th>n_requests</th>\n",
       "      <th>n_words</th>\n",
       "      <th>n_disc_words</th>\n",
       "      <th>politeness</th>\n",
       "      <th>n_sentences</th>\n",
       "      <th>friendship_length</th>\n",
       "      <th>season_before_betrayal</th>\n",
       "    </tr>\n",
       "    <tr>\n",
       "      <th>idx</th>\n",
       "      <th>season</th>\n",
       "      <th>role</th>\n",
       "      <th></th>\n",
       "      <th></th>\n",
       "      <th></th>\n",
       "      <th></th>\n",
       "      <th></th>\n",
       "      <th></th>\n",
       "      <th></th>\n",
       "      <th></th>\n",
       "      <th></th>\n",
       "      <th></th>\n",
       "    </tr>\n",
       "  </thead>\n",
       "  <tbody>\n",
       "    <tr>\n",
       "      <th rowspan=\"5\" valign=\"top\">0</th>\n",
       "      <th rowspan=\"2\" valign=\"top\">1906.5</th>\n",
       "      <th>betrayer</th>\n",
       "      <td>1.333333</td>\n",
       "      <td>1.333333</td>\n",
       "      <td>1.500000</td>\n",
       "      <td>3.666667</td>\n",
       "      <td>489</td>\n",
       "      <td>120</td>\n",
       "      <td>0.803328</td>\n",
       "      <td>25</td>\n",
       "      <td>3.0</td>\n",
       "      <td>6.0</td>\n",
       "    </tr>\n",
       "    <tr>\n",
       "      <th>victim</th>\n",
       "      <td>1.500000</td>\n",
       "      <td>1.250000</td>\n",
       "      <td>5.000000</td>\n",
       "      <td>3.250000</td>\n",
       "      <td>480</td>\n",
       "      <td>108</td>\n",
       "      <td>0.809993</td>\n",
       "      <td>31</td>\n",
       "      <td>3.0</td>\n",
       "      <td>6.0</td>\n",
       "    </tr>\n",
       "    <tr>\n",
       "      <th rowspan=\"2\" valign=\"top\">1907.0</th>\n",
       "      <th>betrayer</th>\n",
       "      <td>0.142857</td>\n",
       "      <td>0.857143</td>\n",
       "      <td>1.285714</td>\n",
       "      <td>1.285714</td>\n",
       "      <td>280</td>\n",
       "      <td>46</td>\n",
       "      <td>0.560083</td>\n",
       "      <td>16</td>\n",
       "      <td>3.0</td>\n",
       "      <td>5.0</td>\n",
       "    </tr>\n",
       "    <tr>\n",
       "      <th>victim</th>\n",
       "      <td>1.333333</td>\n",
       "      <td>0.666667</td>\n",
       "      <td>1.000000</td>\n",
       "      <td>0.666667</td>\n",
       "      <td>93</td>\n",
       "      <td>15</td>\n",
       "      <td>0.785508</td>\n",
       "      <td>9</td>\n",
       "      <td>3.0</td>\n",
       "      <td>5.0</td>\n",
       "    </tr>\n",
       "    <tr>\n",
       "      <th>1907.5</th>\n",
       "      <th>betrayer</th>\n",
       "      <td>2.000000</td>\n",
       "      <td>2.500000</td>\n",
       "      <td>2.000000</td>\n",
       "      <td>5.500000</td>\n",
       "      <td>333</td>\n",
       "      <td>87</td>\n",
       "      <td>0.982703</td>\n",
       "      <td>13</td>\n",
       "      <td>3.0</td>\n",
       "      <td>4.0</td>\n",
       "    </tr>\n",
       "  </tbody>\n",
       "</table>\n",
       "</div>"
      ],
      "text/plain": [
       "                     sentiment_positive  sentiment_neutral  \\\n",
       "idx season role                                              \n",
       "0   1906.5 betrayer            1.333333           1.333333   \n",
       "           victim              1.500000           1.250000   \n",
       "    1907.0 betrayer            0.142857           0.857143   \n",
       "           victim              1.333333           0.666667   \n",
       "    1907.5 betrayer            2.000000           2.500000   \n",
       "\n",
       "                     sentiment_negative  n_requests  n_words  n_disc_words  \\\n",
       "idx season role                                                              \n",
       "0   1906.5 betrayer            1.500000    3.666667      489           120   \n",
       "           victim              5.000000    3.250000      480           108   \n",
       "    1907.0 betrayer            1.285714    1.285714      280            46   \n",
       "           victim              1.000000    0.666667       93            15   \n",
       "    1907.5 betrayer            2.000000    5.500000      333            87   \n",
       "\n",
       "                     politeness  n_sentences  friendship_length  \\\n",
       "idx season role                                                   \n",
       "0   1906.5 betrayer    0.803328           25                3.0   \n",
       "           victim      0.809993           31                3.0   \n",
       "    1907.0 betrayer    0.560083           16                3.0   \n",
       "           victim      0.785508            9                3.0   \n",
       "    1907.5 betrayer    0.982703           13                3.0   \n",
       "\n",
       "                     season_before_betrayal  \n",
       "idx season role                              \n",
       "0   1906.5 betrayer                     6.0  \n",
       "           victim                       6.0  \n",
       "    1907.0 betrayer                     5.0  \n",
       "           victim                       5.0  \n",
       "    1907.5 betrayer                     4.0  "
      ]
     },
     "execution_count": 8,
     "metadata": {},
     "output_type": "execute_result"
    }
   ],
   "source": [
    "features_data = df.copy()\n",
    "\n",
    "# Consider only the betrayals relationships\n",
    "features_data = features_data[features_data['betrayal'] == True]\n",
    "\n",
    "# Drop words as we cannot consider as features here and betrayal infos\n",
    "features_data = features_data.drop(columns=['frequent_words', 'all_words', 'season_betrayal', 'betrayal'])\n",
    "\n",
    "aggreagted_features_per_season = features_data.groupby(['idx', 'season', 'role'], as_index=True).aggregate({\n",
    "    'sentiment_positive': 'mean',\n",
    "    'sentiment_neutral': 'mean',\n",
    "    'sentiment_negative': 'mean',\n",
    "    'n_requests': 'mean',\n",
    "    'n_words': 'sum',\n",
    "    'n_disc_words': 'sum',\n",
    "    'politeness': 'mean',\n",
    "    'n_sentences': 'sum',\n",
    "    'friendship_length': 'min', # Same\n",
    "    'season_before_betrayal': 'min' # Same\n",
    "})\n",
    "\n",
    "aggreagted_features_per_season.head()"
   ]
  },
  {
   "cell_type": "code",
   "execution_count": 9,
   "metadata": {},
   "outputs": [
    {
     "data": {
      "text/html": [
       "<div>\n",
       "<style scoped>\n",
       "    .dataframe tbody tr th:only-of-type {\n",
       "        vertical-align: middle;\n",
       "    }\n",
       "\n",
       "    .dataframe tbody tr th {\n",
       "        vertical-align: top;\n",
       "    }\n",
       "\n",
       "    .dataframe thead th {\n",
       "        text-align: right;\n",
       "    }\n",
       "</style>\n",
       "<table border=\"1\" class=\"dataframe\">\n",
       "  <thead>\n",
       "    <tr style=\"text-align: right;\">\n",
       "      <th></th>\n",
       "      <th>sentiment_positive</th>\n",
       "      <th>sentiment_neutral</th>\n",
       "      <th>sentiment_negative</th>\n",
       "      <th>n_requests</th>\n",
       "      <th>n_words</th>\n",
       "      <th>politeness</th>\n",
       "      <th>n_sentences</th>\n",
       "      <th>delta_role_politeness</th>\n",
       "      <th>delta_time_politeness</th>\n",
       "      <th>friendship_length</th>\n",
       "    </tr>\n",
       "  </thead>\n",
       "  <tbody>\n",
       "    <tr>\n",
       "      <th>0</th>\n",
       "      <td>1.333333</td>\n",
       "      <td>1.333333</td>\n",
       "      <td>1.500000</td>\n",
       "      <td>3.666667</td>\n",
       "      <td>489</td>\n",
       "      <td>0.803328</td>\n",
       "      <td>25</td>\n",
       "      <td>-0.006665</td>\n",
       "      <td>0.000000</td>\n",
       "      <td>3.0</td>\n",
       "    </tr>\n",
       "    <tr>\n",
       "      <th>1</th>\n",
       "      <td>0.142857</td>\n",
       "      <td>0.857143</td>\n",
       "      <td>1.285714</td>\n",
       "      <td>1.285714</td>\n",
       "      <td>280</td>\n",
       "      <td>0.560083</td>\n",
       "      <td>16</td>\n",
       "      <td>-0.225425</td>\n",
       "      <td>-0.249910</td>\n",
       "      <td>3.0</td>\n",
       "    </tr>\n",
       "    <tr>\n",
       "      <th>2</th>\n",
       "      <td>2.000000</td>\n",
       "      <td>2.500000</td>\n",
       "      <td>2.000000</td>\n",
       "      <td>5.500000</td>\n",
       "      <td>333</td>\n",
       "      <td>0.982703</td>\n",
       "      <td>13</td>\n",
       "      <td>0.375372</td>\n",
       "      <td>0.197195</td>\n",
       "      <td>3.0</td>\n",
       "    </tr>\n",
       "    <tr>\n",
       "      <th>3</th>\n",
       "      <td>1.800000</td>\n",
       "      <td>0.800000</td>\n",
       "      <td>2.200000</td>\n",
       "      <td>3.200000</td>\n",
       "      <td>449</td>\n",
       "      <td>0.748802</td>\n",
       "      <td>24</td>\n",
       "      <td>0.177667</td>\n",
       "      <td>0.141471</td>\n",
       "      <td>3.0</td>\n",
       "    </tr>\n",
       "    <tr>\n",
       "      <th>4</th>\n",
       "      <td>1.000000</td>\n",
       "      <td>1.000000</td>\n",
       "      <td>1.000000</td>\n",
       "      <td>2.000000</td>\n",
       "      <td>78</td>\n",
       "      <td>0.899161</td>\n",
       "      <td>6</td>\n",
       "      <td>0.335738</td>\n",
       "      <td>0.328027</td>\n",
       "      <td>3.0</td>\n",
       "    </tr>\n",
       "  </tbody>\n",
       "</table>\n",
       "</div>"
      ],
      "text/plain": [
       "   sentiment_positive  sentiment_neutral  sentiment_negative  n_requests  \\\n",
       "0            1.333333           1.333333            1.500000    3.666667   \n",
       "1            0.142857           0.857143            1.285714    1.285714   \n",
       "2            2.000000           2.500000            2.000000    5.500000   \n",
       "3            1.800000           0.800000            2.200000    3.200000   \n",
       "4            1.000000           1.000000            1.000000    2.000000   \n",
       "\n",
       "   n_words  politeness  n_sentences  delta_role_politeness  \\\n",
       "0      489    0.803328           25              -0.006665   \n",
       "1      280    0.560083           16              -0.225425   \n",
       "2      333    0.982703           13               0.375372   \n",
       "3      449    0.748802           24               0.177667   \n",
       "4       78    0.899161            6               0.335738   \n",
       "\n",
       "   delta_time_politeness  friendship_length  \n",
       "0               0.000000                3.0  \n",
       "1              -0.249910                3.0  \n",
       "2               0.197195                3.0  \n",
       "3               0.141471                3.0  \n",
       "4               0.328027                3.0  "
      ]
     },
     "execution_count": 9,
     "metadata": {},
     "output_type": "execute_result"
    }
   ],
   "source": [
    "features_per_season = aggreagted_features_per_season.reset_index()\n",
    "\n",
    "# Add difference between politeness score in victim and betrayer\n",
    "def delta_politeness(x):\n",
    "    return {'delta_role_politeness': (x[x['role'] == 'betrayer']['politeness'].values - x[x['role'] == 'victim']['politeness'].values).item()}\n",
    "delta_politeness_role = features_per_season.groupby(by=['idx', 'season']).apply(lambda x: pd.Series(delta_politeness(x))).reset_index()\n",
    "\n",
    "\n",
    "def get_politeness_season(features_per_season):\n",
    "    data_time = features_per_season.groupby(['idx']).apply(lambda x: pd.Series({\n",
    "        'delta_time': x['politeness'].values - np.append(x['politeness'].values[0], x['politeness'].values[:-1])\n",
    "}))\n",
    "    delta_time_list = list()\n",
    "    for dt in data_time['delta_time']:\n",
    "        delta_time_list = np.append(delta_time_list, dt)\n",
    "    return delta_time_list\n",
    "features_per_season['delta_time_politeness'] = get_politeness_season(features_per_season)\n",
    "\n",
    "# Consider just betrayer data\n",
    "input_features = features_per_season[features_per_season['role'] == 'betrayer'].set_index(['idx', 'season']).join(delta_politeness_role.set_index(['idx', 'season'])).reset_index()\n",
    "\n",
    "X = input_features[['sentiment_positive', 'sentiment_neutral', 'sentiment_negative',  'n_requests', 'n_words', 'politeness', 'n_sentences', 'delta_role_politeness', 'delta_time_politeness', 'friendship_length']]\n",
    "Y = (input_features['season_before_betrayal'] == 1.0).values.astype('float32')\n",
    "X.head()"
   ]
  },
  {
   "cell_type": "markdown",
   "metadata": {},
   "source": [
    "### How we bootstrap model predictions"
   ]
  },
  {
   "cell_type": "code",
   "execution_count": 10,
   "metadata": {},
   "outputs": [],
   "source": [
    "from scipy.stats import sem\n",
    "\n",
    "def bootstrap_model_prediction(train_and_predict_fn, n_iterations, stratify, model_name):\n",
    "    \"\"\"Use to run the model for a number of iterations and get bootstrapped results.\"\"\"\n",
    "\n",
    "    print('Training model {}..'.format(model_name))\n",
    "\n",
    "    f1_scores = []\n",
    "    mmc_scores = []\n",
    "    for i in range(n_iterations):\n",
    "\n",
    "        # Split data before resampling\n",
    "        x_train, x_test, y_train, y_test = train_test_split(X, Y, test_size=0.10, random_state=42, shuffle=True)\n",
    "\n",
    "        # Resample train and test data, stratifying on y (resulting in equal number of 0 and 1 labels)\n",
    "        if stratify:\n",
    "            x_train, y_train = resample(x_train, y_train, replace=True, stratify=y_train)\n",
    "        else:\n",
    "            x_train, y_train = resample(x_train, y_train, replace=True)\n",
    "\n",
    "        x_test, y_test = resample(x_test, y_test, replace=True)\n",
    "\n",
    "        scores = train_and_predict_fn(x_train, x_test, y_train, y_test)\n",
    "\n",
    "        # We store the f1 and mmc scores only to compare to authors' baseline\n",
    "        f1_scores.append(scores['f1'])\n",
    "        mmc_scores.append(scores['mmc'])\n",
    "    f1_score_low, f1_score_upper = confidence_interval(0.95, f1_scores)\n",
    "    mmc_score_low, mmc_score_upper = confidence_interval(0.95, np.nan_to_num(mmc_scores))\n",
    "\n",
    "    f1_avg_score, f1_avg_score_err = np.mean(f1_scores), sem(f1_scores)\n",
    "    mmc_avg_score, mmc_avg_score_err = np.mean(mmc_scores), sem(mmc_scores)\n",
    "\n",
    "    print('Average F1-Score: %.3f' % f1_avg_score)\n",
    "    print('Average MMC-Score: %.3f' % mmc_avg_score)\n",
    "    print('F1-Score: 95%% confidence interval %.3f and %.3f' % (f1_score_low, f1_score_upper))\n",
    "    print('Matthews Corr Coef: 95%% confidence interval %.3f and %.3f' % (mmc_score_low, mmc_score_upper))\n",
    "\n",
    "    return [f1_avg_score, f1_avg_score_err], [mmc_avg_score, mmc_avg_score_err]"
   ]
  },
  {
   "cell_type": "markdown",
   "metadata": {},
   "source": [
    "### Logistic Regression"
   ]
  },
  {
   "cell_type": "code",
   "execution_count": 41,
   "metadata": {},
   "outputs": [],
   "source": [
    "all_models_f1_scores = []\n",
    "all_models_mmc_scores = []\n",
    "all_models_names = []\n",
    "\n",
    "def add_results(f1_out, mmc_out, name):\n",
    "    all_models_f1_scores.append(f1_out)\n",
    "    all_models_mmc_scores.append(mmc_out)\n",
    "    all_models_names.append(name)"
   ]
  },
  {
   "cell_type": "code",
   "execution_count": 48,
   "metadata": {},
   "outputs": [
    {
     "name": "stdout",
     "output_type": "stream",
     "text": [
      "Training model Logistic Regression (Nor)..\n",
      "Average F1-Score: 0.492\n",
      "Average MMC-Score: 0.333\n",
      "F1-Score: 95% confidence interval 0.177 and 0.675\n",
      "Matthews Corr Coef: 95% confidence interval -0.071 and 0.566\n",
      "\n",
      "Training model Logistic Regression (Nor)..\n",
      "Average F1-Score: 0.500\n",
      "Average MMC-Score: 0.344\n",
      "F1-Score: 95% confidence interval 0.326 and 0.658\n",
      "Matthews Corr Coef: 95% confidence interval 0.061 and 0.555\n"
     ]
    }
   ],
   "source": [
    "def train_and_predict_logistic_regressionl_normalized(x_train, x_test, y_train, y_test):\n",
    "    scaler = StandardScaler()\n",
    "    x_train = scaler.fit_transform(x_train)\n",
    "    x_test = scaler.transform(x_test)\n",
    "    \n",
    "    clf = LogisticRegression(random_state=0, class_weight=get_class_weights(Y)).fit(x_train, y_train)                                       \n",
    "    y_pred = clf.predict(x_test)\n",
    "    return evaluate_model(y_test, y_pred)\n",
    "\n",
    "# Without\n",
    "f1_output, mmc_output = bootstrap_model_prediction(train_and_predict_logistic_regressionl_normalized, 20, stratify=False, model_name=\"Logistic Regression (Nor)\")\n",
    "\n",
    "print(\"\")\n",
    "# With stratify\n",
    "f1_output, mmc_output = bootstrap_model_prediction(train_and_predict_logistic_regressionl_normalized, 20, stratify=True, model_name=\"Logistic Regression (Nor)\")\n",
    "add_results(f1_output, mmc_output, \"Logistic Regression\")"
   ]
  },
  {
   "cell_type": "markdown",
   "metadata": {},
   "source": [
    "### How we discovered the length of friendship matters"
   ]
  },
  {
   "cell_type": "code",
   "execution_count": 49,
   "metadata": {},
   "outputs": [
    {
     "data": {
      "image/png": "[encoded data removed]",
      "text/plain": [
       "<Figure size 432x288 with 1 Axes>"
      ]
     },
     "metadata": {
      "needs_background": "light"
     },
     "output_type": "display_data"
    }
   ],
   "source": [
    "def log_reg_pipeline(features, print_=True):\n",
    "    x_features = X[features].values\n",
    "    x_train, x_test, y_train, y_test = train_test_split(x_features, Y, test_size=0.10, random_state=42)\n",
    "    result = train_and_predict_logistic_regressionl_normalized( x_train, x_test, y_train, y_test)\n",
    "    if print_:\n",
    "        print(\"score on the test set : {}\".format(result['f1']))\n",
    "    return result['f1']\n",
    "\n",
    "features_test = [\n",
    "            ['politeness'],\n",
    "            ['n_words', 'politeness', 'delta_role_politeness', 'delta_time_politeness'],\n",
    "            ['n_words', 'politeness'],\n",
    "            ['n_requests', 'n_words', 'politeness'],\n",
    "            ['sentiment_positive', 'n_requests', 'n_words', 'politeness'],\n",
    "            ['sentiment_positive', 'sentiment_neutral', 'n_requests', 'n_words', 'politeness'],\n",
    "            ['sentiment_positive', 'sentiment_neutral', 'sentiment_negative', 'n_requests', 'n_words', 'politeness'],\n",
    "            ['sentiment_positive', 'sentiment_neutral', 'sentiment_negative', 'n_requests', 'n_words', 'politeness', 'friendship_length'],\n",
    "]\n",
    "\n",
    "scores = []\n",
    "\n",
    "for feature in features_test:\n",
    "    score_nor = log_reg_pipeline(feature, False)\n",
    "    scores.append(score_nor)\n",
    "    \n",
    "_ = plt.plot(np.arange(len(scores)), scores)\n",
    "_ = plt.legend('F1 Score')"
   ]
  },
  {
   "cell_type": "markdown",
   "metadata": {},
   "source": [
    "There is an evidence that including the friendship length can help for making the right decision ! Let's do a greedy search to cover as much possibilities as we can."
   ]
  },
  {
   "cell_type": "code",
   "execution_count": 2,
   "metadata": {},
   "outputs": [],
   "source": [
    "features_all = ['sentiment_positive', 'sentiment_neutral', 'sentiment_negative', 'n_requests', 'n_words', 'politeness', 'friendship_length', 'delta_time_politeness', 'delta_role_politeness']"
   ]
  },
  {
   "cell_type": "code",
   "execution_count": 12,
   "metadata": {},
   "outputs": [],
   "source": [
    "from itertools import combinations\n",
    "\n",
    "def greedy_search(X, features_all):\n",
    "    list_features = []\n",
    "    for i in range(len(features_all)):\n",
    "        list_features += list(combinations(features_all, i+1))\n",
    "    max_f1 = 0\n",
    "    best_comb = \"\"\n",
    "    for feat in list_features:\n",
    "        features = [t for t in feat]\n",
    "        x_features = X[features].values\n",
    "        x_train, x_test, y_train, y_test = train_test_split(x_features, Y, test_size=0.10, random_state=42)\n",
    "        result = train_and_predict_logistic_regressionl_normalized( x_train, x_test, y_train, y_test)\n",
    "        if result[\"f1\"] > max_f1:\n",
    "            max_f1 = result[\"f1\"]\n",
    "            best_comb = features\n",
    "    return max_f1, best_comb"
   ]
  },
  {
   "cell_type": "code",
   "execution_count": 13,
   "metadata": {},
   "outputs": [
    {
     "name": "stderr",
     "output_type": "stream",
     "text": [
      "/home/ina/Repos/EPFL/ADA-Project-Milestone3/utils/evaluation_utils.py:20: RuntimeWarning: invalid value encountered in long_scalars\n",
      "  precision = tp / (tp + fp)\n",
      "/home/ina/Repos/EPFL/ADA-Project-Milestone3/utils/evaluation_utils.py:9: RuntimeWarning: invalid value encountered in true_divide\n",
      "  return (TN * TP - FP * FN) / np.sqrt((TN + FN) * (FP + TP) * (TN + FP) * (FN + TP))\n"
     ]
    },
    {
     "name": "stdout",
     "output_type": "stream",
     "text": [
      "Best score : 0.595 achieved with : ['sentiment_positive', 'sentiment_neutral', 'n_requests', 'politeness', 'friendship_length']\n"
     ]
    }
   ],
   "source": [
    "max_f1, best_comb = greedy_search(X, features_all)\n",
    "print(\"Best score : {} achieved with : {}\".format(max_f1, best_comb))"
   ]
  },
  {
   "cell_type": "markdown",
   "metadata": {},
   "source": [
    "### Decision Trees"
   ]
  },
  {
   "cell_type": "markdown",
   "metadata": {},
   "source": [
    "#### Random Forest"
   ]
  },
  {
   "cell_type": "code",
   "execution_count": 146,
   "metadata": {},
   "outputs": [
    {
     "name": "stdout",
     "output_type": "stream",
     "text": [
      "Training model Random Forest..\n"
     ]
    },
    {
     "name": "stderr",
     "output_type": "stream",
     "text": [
      "/home/ina/Repos/EPFL/ADA-Project-Milestone3/utils/evaluation_utils.py:20: RuntimeWarning: invalid value encountered in long_scalars\n",
      "  precision = tp / (tp + fp)\n",
      "/home/ina/Repos/EPFL/ADA-Project-Milestone3/utils/evaluation_utils.py:9: RuntimeWarning: invalid value encountered in true_divide\n",
      "  return (TN * TP - FP * FN) / np.sqrt((TN + FN) * (FP + TP) * (TN + FP) * (FN + TP))\n"
     ]
    },
    {
     "name": "stdout",
     "output_type": "stream",
     "text": [
      "Average F1-Score: 0.116\n",
      "Average MMC-Score: nan\n",
      "F1-Score: 95% confidence interval 0.000 and 0.295\n",
      "Matthews Corr Coef: 95% confidence interval -0.076 and 0.334\n",
      "\n",
      "Training model Random Forest..\n"
     ]
    },
    {
     "name": "stderr",
     "output_type": "stream",
     "text": [
      "/home/ina/Repos/EPFL/ADA-Project-Milestone3/utils/evaluation_utils.py:20: RuntimeWarning: invalid value encountered in long_scalars\n",
      "  precision = tp / (tp + fp)\n",
      "/home/ina/Repos/EPFL/ADA-Project-Milestone3/utils/evaluation_utils.py:9: RuntimeWarning: invalid value encountered in true_divide\n",
      "  return (TN * TP - FP * FN) / np.sqrt((TN + FN) * (FP + TP) * (TN + FP) * (FN + TP))\n",
      "/home/ina/Repos/EPFL/ADA-Project-Milestone3/utils/evaluation_utils.py:20: RuntimeWarning: invalid value encountered in long_scalars\n",
      "  precision = tp / (tp + fp)\n",
      "/home/ina/Repos/EPFL/ADA-Project-Milestone3/utils/evaluation_utils.py:9: RuntimeWarning: invalid value encountered in true_divide\n",
      "  return (TN * TP - FP * FN) / np.sqrt((TN + FN) * (FP + TP) * (TN + FP) * (FN + TP))\n"
     ]
    },
    {
     "name": "stdout",
     "output_type": "stream",
     "text": [
      "Average F1-Score: 0.052\n",
      "Average MMC-Score: nan\n",
      "F1-Score: 95% confidence interval 0.000 and 0.235\n",
      "Matthews Corr Coef: 95% confidence interval -0.067 and 0.299\n"
     ]
    }
   ],
   "source": [
    "from sklearn.ensemble import RandomForestClassifier\n",
    "\n",
    "features = ['sentiment_positive', 'sentiment_neutral', 'sentiment_negative',  'n_requests', 'n_words', 'politeness', 'n_sentences', 'delta_role_politeness', 'delta_time_politeness', 'friendship_length']\n",
    "X = input_features[features]\n",
    "Y = (input_features['season_before_betrayal'] == 1.0).values.astype(np.int)\n",
    "\n",
    "def train_and_predict_random_forest(x_train, x_test, y_train, y_test):\n",
    "    scaler = StandardScaler()\n",
    "    x_train = scaler.fit_transform(x_train)\n",
    "    x_test = scaler.transform(x_test)\n",
    "    \n",
    "    clf = RandomForestClassifier(\n",
    "        n_estimators=300, \n",
    "        max_depth=15, \n",
    "        class_weight='balanced_subsample')\n",
    "        \n",
    "    clf.fit(x_train, y_train)\n",
    "\n",
    "    y_pred = clf.predict(x_test)\n",
    "    return evaluate_model(y_test, y_pred)\n",
    "\n",
    "# Without\n",
    "f1_output, mmc_output = bootstrap_model_prediction(train_and_predict_random_forest, 5, stratify=False, model_name=\"Random Forest\")\n",
    "\n",
    "print(\"\")\n",
    "# With stratify\n",
    "f1_output, mmc_output = bootstrap_model_prediction(train_and_predict_random_forest, 5, stratify=True, model_name=\"Random Forest\")\n",
    "add_results(f1_output, mmc_output, \"Random Forest\")"
   ]
  },
  {
   "cell_type": "code",
   "execution_count": 475,
   "metadata": {},
   "outputs": [
    {
     "data": {
      "text/plain": [
       "{'acc': 0.776,\n",
       " 'f1': 0.118,\n",
       " 'fn': 14,\n",
       " 'fp': 1,\n",
       " 'mmc': 0.116194,\n",
       " 'precision': 0.5,\n",
       " 'recall': 0.067,\n",
       " 'tn': 51,\n",
       " 'tp': 1}"
      ]
     },
     "execution_count": 475,
     "metadata": {},
     "output_type": "execute_result"
    },
    {
     "data": {
      "image/png": "[encoded data removed]",
      "text/plain": [
       "<Figure size 432x288 with 1 Axes>"
      ]
     },
     "metadata": {
      "needs_background": "light"
     },
     "output_type": "display_data"
    }
   ],
   "source": [
    "def train_rf_and_plot_importance(x_train, x_test, y_train, y_test ):\n",
    "    scaler = StandardScaler()\n",
    "    x_train = scaler.fit_transform(x_train)\n",
    "    x_test = scaler.transform(x_test)\n",
    "\n",
    "    clf = RandomForestClassifier(n_estimators=1000)\n",
    "    clf.fit(x_train, y_train)\n",
    "\n",
    "    importances = np.array(clf.feature_importances_)\n",
    "    indices = np.argsort(importances)\n",
    "\n",
    "    plt.figure(1)\n",
    "    plt.title('Feature Importances')\n",
    "    plt.barh(range(len(indices)), importances[indices], color='b', align='center')\n",
    "    plt.yticks(range(len(indices)), np.array(features)[indices])\n",
    "    plt.xlabel('Relative Importance')\n",
    "\n",
    "x_train, x_test, y_train, y_test = train_test_split(X, Y, test_size=0.10, random_state=42)\n",
    "train_rf_and_plot_importance(x_train, x_test, y_train, y_test)\n",
    "train_and_predict_random_forest(x_train, x_test, y_train, y_test)"
   ]
  },
  {
   "cell_type": "markdown",
   "metadata": {},
   "source": [
    "#### XGBoost"
   ]
  },
  {
   "cell_type": "code",
   "execution_count": 109,
   "metadata": {},
   "outputs": [
    {
     "name": "stdout",
     "output_type": "stream",
     "text": [
      "Training model XGBoost..\n",
      "Average F1-Score: 0.479\n",
      "Average MMC-Score: 0.440\n",
      "F1-Score: 95% confidence interval 0.335 and 0.667\n",
      "Matthews Corr Coef: 95% confidence interval 0.278 and 0.635\n",
      "\n",
      "Training model XGBoost..\n",
      "Average F1-Score: 0.654\n",
      "Average MMC-Score: 0.632\n",
      "F1-Score: 95% confidence interval 0.422 and 0.897\n",
      "Matthews Corr Coef: 95% confidence interval 0.423 and 0.870\n"
     ]
    }
   ],
   "source": [
    "import xgboost\n",
    "\n",
    "def train_and_predict_random_forest(x_train, x_test, y_train, y_test):\n",
    "    scaler = StandardScaler()\n",
    "    x_train = scaler.fit_transform(x_train)\n",
    "    x_test = scaler.transform(x_test)\n",
    "    \n",
    "    ratio = float(np.sum(Y == 0)) / np.sum(Y == 1)\n",
    "    \n",
    "    clf = xgboost.XGBClassifier(n_jobs=-1, scale_pos_weight=ratio, n_estimators=300, max_depth=20)\n",
    "    clf.fit(x_train, y_train)\n",
    "\n",
    "    y_pred = clf.predict(x_test)\n",
    "    return evaluate_model(y_test, y_pred)\n",
    "\n",
    "# Without\n",
    "f1_output, mmc_output = bootstrap_model_prediction(train_and_predict_random_forest, 5, stratify=False, model_name=\"XGBoost\")\n",
    "\n",
    "print(\"\")\n",
    "# With stratify\n",
    "f1_output, mmc_output = bootstrap_model_prediction(train_and_predict_random_forest, 5, stratify=True, model_name=\"XGBoost\")\n",
    "add_results(f1_output, mmc_output, \"XGBoost\")"
   ]
  },
  {
   "cell_type": "markdown",
   "metadata": {},
   "source": [
    "### Feed Forward Neural Network"
   ]
  },
  {
   "cell_type": "code",
   "execution_count": 19,
   "metadata": {},
   "outputs": [
    {
     "name": "stdout",
     "output_type": "stream",
     "text": [
      "Model: \"sequential\"\n",
      "_________________________________________________________________\n",
      "Layer (type)                 Output Shape              Param #   \n",
      "=================================================================\n",
      "dense (Dense)                (None, 512)               5632      \n",
      "_________________________________________________________________\n",
      "dense_1 (Dense)              (None, 256)               131328    \n",
      "_________________________________________________________________\n",
      "dropout (Dropout)            (None, 256)               0         \n",
      "_________________________________________________________________\n",
      "dense_2 (Dense)              (None, 1)                 257       \n",
      "=================================================================\n",
      "Total params: 137,217\n",
      "Trainable params: 137,217\n",
      "Non-trainable params: 0\n",
      "_________________________________________________________________\n"
     ]
    }
   ],
   "source": [
    "from utils.models import get_feed_forward_model, local_seed\n",
    "\n",
    "BATCH_SIZE = 64\n",
    "EPOCHS = 10\n",
    "FEATURES_NUM = X.shape[-1]\n",
    "\n",
    "model = get_feed_forward_model(FEATURES_NUM)\n",
    "model.summary()"
   ]
  },
  {
   "cell_type": "code",
   "execution_count": 490,
   "metadata": {},
   "outputs": [
    {
     "name": "stdout",
     "output_type": "stream",
     "text": [
      "{'f1': 0.362, 'mmc': 0.08248, 'acc': 68.368, 'precision': 0.233, 'recall': 0.474, 'tp': 1953, 'fp': 6426, 'tn': 7140, 'fn': 2170}\n",
      "Training model Feedforward..\n",
      "Average F1-Score: 0.454\n",
      "Average MMC-Score: 0.287\n",
      "F1-Score: 95% confidence interval 0.352 and 0.631\n",
      "Matthews Corr Coef: 95% confidence interval 0.145 and 0.550\n"
     ]
    }
   ],
   "source": [
    "def train_and_predict_feed_forward_model(x_train, x_test, y_train, y_test):\n",
    "    scaler = StandardScaler()\n",
    "    x_train = scaler.fit_transform(x_train)\n",
    "    x_test = scaler.transform(x_test)\n",
    "    \n",
    "    es = tf.keras.callbacks.EarlyStopping(monitor='val_loss', mode='min', verbose=0, patience=3)\n",
    "\n",
    "    class_weights = get_class_weights(Y)\n",
    "    with local_seed(10):\n",
    "        model = get_feed_forward_model()\n",
    "        result = model.fit(\n",
    "            x_train, \n",
    "            y_train, \n",
    "            batch_size = BATCH_SIZE, \n",
    "            epochs=10,\n",
    "            callbacks=[es],\n",
    "            validation_data=(x_test, y_test),\n",
    "            class_weight=class_weights, verbose=0)\n",
    "\n",
    "    y_pred = model.predict_step(x_test).numpy()\n",
    "    y_pred_bool = y_pred > 0.5\n",
    "    return evaluate_model(y_test, y_pred_bool)\n",
    "\n",
    "x_train, x_test, y_train, y_test = train_test_split(X, Y, random_state = 10, test_size=0.2)\n",
    "print(train_and_predict_feed_forward_model(x_train, x_test, y_train, y_test))\n",
    "\n",
    "f1_output, mmc_output = bootstrap_model_prediction(train_and_predict_feed_forward_model, 20, stratify=True, model_name=\"Feedforward\")\n",
    "add_results(f1_output, mmc_output, \"Feed Forward NN\")"
   ]
  },
  {
   "cell_type": "markdown",
   "metadata": {},
   "source": [
    "# Plot model results"
   ]
  },
  {
   "cell_type": "code",
   "execution_count": 517,
   "metadata": {},
   "outputs": [],
   "source": [
    "# Ading authors baseline\n",
    "\n",
    "all_models_f1_scores.append([0.31, 0])\n",
    "all_models_mmc_scores.append([0.15, 0])\n",
    "all_models_names.append('Authors baseline')\n",
    "\n",
    "f1_scores  = np.array(all_models_f1_scores)\n",
    "mmc_scores = np.array(all_models_mmc_scores)"
   ]
  },
  {
   "cell_type": "code",
   "execution_count": 518,
   "metadata": {},
   "outputs": [
    {
     "data": {
      "image/png": "[encoded data removed]",
      "text/plain": [
       "<Figure size 432x288 with 1 Axes>"
      ]
     },
     "metadata": {
      "needs_background": "light"
     },
     "output_type": "display_data"
    },
    {
     "data": {
      "image/png": "[encoded data removed]",
      "text/plain": [
       "<Figure size 432x288 with 1 Axes>"
      ]
     },
     "metadata": {
      "needs_background": "light"
     },
     "output_type": "display_data"
    }
   ],
   "source": [
    "plt.barh(all_models_names, f1_scores[:, 0], xerr=f1_scores[:,1], capsize=4)\n",
    "plt.title(\"Score\")\n",
    "plt.xlabel(\"f1\".capitalize())\n",
    "plt.ylabel(\"Model\")\n",
    "plt.show()\n",
    "\n",
    "plt.barh(all_models_names, mmc_scores[:, 0], xerr=mmc_scores[:,1], capsize=4)\n",
    "plt.title(\"Score\")\n",
    "plt.xlabel(\"mmc\".capitalize())\n",
    "plt.ylabel(\"Model\")\n",
    "plt.show()"
   ]
  },
  {
   "cell_type": "markdown",
   "metadata": {},
   "source": [
    "# Explore more models using word embeddings"
   ]
  },
  {
   "cell_type": "code",
   "execution_count": 8,
   "metadata": {},
   "outputs": [],
   "source": [
    "%%capture\n",
    "!pip install nltk\n",
    "import nltk\n",
    "nltk.download('stopwords')\n",
    "nltk.download('punkt')"
   ]
  },
  {
   "cell_type": "markdown",
   "metadata": {},
   "source": [
    "### Get the new inputs: words embeddings"
   ]
  },
  {
   "cell_type": "code",
   "execution_count": 9,
   "metadata": {},
   "outputs": [
    {
     "data": {
      "text/html": [
       "<div>\n",
       "<style scoped>\n",
       "    .dataframe tbody tr th:only-of-type {\n",
       "        vertical-align: middle;\n",
       "    }\n",
       "\n",
       "    .dataframe tbody tr th {\n",
       "        vertical-align: top;\n",
       "    }\n",
       "\n",
       "    .dataframe thead th {\n",
       "        text-align: right;\n",
       "    }\n",
       "</style>\n",
       "<table border=\"1\" class=\"dataframe\">\n",
       "  <thead>\n",
       "    <tr style=\"text-align: right;\">\n",
       "      <th></th>\n",
       "      <th>idx</th>\n",
       "      <th>season</th>\n",
       "      <th>role</th>\n",
       "      <th>sentiment_positive</th>\n",
       "      <th>sentiment_neutral</th>\n",
       "      <th>sentiment_negative</th>\n",
       "      <th>n_requests</th>\n",
       "      <th>n_words</th>\n",
       "      <th>n_disc_words</th>\n",
       "      <th>politeness</th>\n",
       "      <th>n_sentences</th>\n",
       "      <th>friendship_length</th>\n",
       "      <th>season_before_betrayal</th>\n",
       "      <th>all_words</th>\n",
       "      <th>delta_time_politeness</th>\n",
       "      <th>delta_role_politeness</th>\n",
       "    </tr>\n",
       "  </thead>\n",
       "  <tbody>\n",
       "    <tr>\n",
       "      <th>0</th>\n",
       "      <td>0</td>\n",
       "      <td>1906.5</td>\n",
       "      <td>betrayer</td>\n",
       "      <td>1.333333</td>\n",
       "      <td>1.333333</td>\n",
       "      <td>1.500000</td>\n",
       "      <td>3.666667</td>\n",
       "      <td>489</td>\n",
       "      <td>120</td>\n",
       "      <td>0.803328</td>\n",
       "      <td>25</td>\n",
       "      <td>3.0</td>\n",
       "      <td>6.0</td>\n",
       "      <td>[before, and, helping, run, yet, for, retake, ...</td>\n",
       "      <td>0.000000</td>\n",
       "      <td>-0.006665</td>\n",
       "    </tr>\n",
       "    <tr>\n",
       "      <th>1</th>\n",
       "      <td>0</td>\n",
       "      <td>1907.0</td>\n",
       "      <td>betrayer</td>\n",
       "      <td>0.142857</td>\n",
       "      <td>0.857143</td>\n",
       "      <td>1.285714</td>\n",
       "      <td>1.285714</td>\n",
       "      <td>280</td>\n",
       "      <td>46</td>\n",
       "      <td>0.560083</td>\n",
       "      <td>16</td>\n",
       "      <td>3.0</td>\n",
       "      <td>5.0</td>\n",
       "      <td>[or, now, the, a, are, went, other, turkey, ?,...</td>\n",
       "      <td>-0.249910</td>\n",
       "      <td>-0.225425</td>\n",
       "    </tr>\n",
       "    <tr>\n",
       "      <th>2</th>\n",
       "      <td>0</td>\n",
       "      <td>1907.5</td>\n",
       "      <td>betrayer</td>\n",
       "      <td>2.000000</td>\n",
       "      <td>2.500000</td>\n",
       "      <td>2.000000</td>\n",
       "      <td>5.500000</td>\n",
       "      <td>333</td>\n",
       "      <td>87</td>\n",
       "      <td>0.982703</td>\n",
       "      <td>13</td>\n",
       "      <td>3.0</td>\n",
       "      <td>4.0</td>\n",
       "      <td>[and, made, any, some, for, stp, so, can, hold...</td>\n",
       "      <td>0.197195</td>\n",
       "      <td>0.375372</td>\n",
       "    </tr>\n",
       "    <tr>\n",
       "      <th>3</th>\n",
       "      <td>0</td>\n",
       "      <td>1908.0</td>\n",
       "      <td>betrayer</td>\n",
       "      <td>1.800000</td>\n",
       "      <td>0.800000</td>\n",
       "      <td>2.200000</td>\n",
       "      <td>3.200000</td>\n",
       "      <td>449</td>\n",
       "      <td>117</td>\n",
       "      <td>0.748802</td>\n",
       "      <td>24</td>\n",
       "      <td>3.0</td>\n",
       "      <td>3.0</td>\n",
       "      <td>[hope, they, move, out, sounds, let's, turkey,...</td>\n",
       "      <td>0.141471</td>\n",
       "      <td>0.177667</td>\n",
       "    </tr>\n",
       "    <tr>\n",
       "      <th>4</th>\n",
       "      <td>0</td>\n",
       "      <td>1908.5</td>\n",
       "      <td>betrayer</td>\n",
       "      <td>1.000000</td>\n",
       "      <td>1.000000</td>\n",
       "      <td>1.000000</td>\n",
       "      <td>2.000000</td>\n",
       "      <td>78</td>\n",
       "      <td>24</td>\n",
       "      <td>0.899161</td>\n",
       "      <td>6</td>\n",
       "      <td>3.0</td>\n",
       "      <td>2.0</td>\n",
       "      <td>[further, a, made, i, little, as, any, some, t...</td>\n",
       "      <td>0.328027</td>\n",
       "      <td>0.335738</td>\n",
       "    </tr>\n",
       "  </tbody>\n",
       "</table>\n",
       "</div>"
      ],
      "text/plain": [
       "   idx  season      role  sentiment_positive  sentiment_neutral  \\\n",
       "0    0  1906.5  betrayer            1.333333           1.333333   \n",
       "1    0  1907.0  betrayer            0.142857           0.857143   \n",
       "2    0  1907.5  betrayer            2.000000           2.500000   \n",
       "3    0  1908.0  betrayer            1.800000           0.800000   \n",
       "4    0  1908.5  betrayer            1.000000           1.000000   \n",
       "\n",
       "   sentiment_negative  n_requests  n_words  n_disc_words  politeness  \\\n",
       "0            1.500000    3.666667      489           120    0.803328   \n",
       "1            1.285714    1.285714      280            46    0.560083   \n",
       "2            2.000000    5.500000      333            87    0.982703   \n",
       "3            2.200000    3.200000      449           117    0.748802   \n",
       "4            1.000000    2.000000       78            24    0.899161   \n",
       "\n",
       "   n_sentences  friendship_length  season_before_betrayal  \\\n",
       "0           25                3.0                     6.0   \n",
       "1           16                3.0                     5.0   \n",
       "2           13                3.0                     4.0   \n",
       "3           24                3.0                     3.0   \n",
       "4            6                3.0                     2.0   \n",
       "\n",
       "                                           all_words  delta_time_politeness  \\\n",
       "0  [before, and, helping, run, yet, for, retake, ...               0.000000   \n",
       "1  [or, now, the, a, are, went, other, turkey, ?,...              -0.249910   \n",
       "2  [and, made, any, some, for, stp, so, can, hold...               0.197195   \n",
       "3  [hope, they, move, out, sounds, let's, turkey,...               0.141471   \n",
       "4  [further, a, made, i, little, as, any, some, t...               0.328027   \n",
       "\n",
       "   delta_role_politeness  \n",
       "0              -0.006665  \n",
       "1              -0.225425  \n",
       "2               0.375372  \n",
       "3               0.177667  \n",
       "4               0.335738  "
      ]
     },
     "execution_count": 9,
     "metadata": {},
     "output_type": "execute_result"
    }
   ],
   "source": [
    "features_data = df.copy()\n",
    "data:image/png;base64,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\n",
    "# Consider only the betrayals relationships\n",
    "features_data = features_data[features_data['betrayal'] == True]\n",
    "features_data = features_data.drop(columns=[ 'season_betrayal', 'betrayal'])\n",
    "\n",
    "aggreagted_features_per_season = features_data.groupby(['idx', 'season', 'role'], as_index=True).aggregate({\n",
    "    'sentiment_positive': 'mean',\n",
    "    'sentiment_neutral': 'mean',\n",
    "    'sentiment_negative': 'mean',\n",
    "    'n_requests': 'mean',\n",
    "    'n_words': 'sum',\n",
    "    'n_disc_words': 'sum',\n",
    "    'politeness': 'mean',\n",
    "    'n_sentences': 'sum',\n",
    "    'friendship_length': 'min', # Same\n",
    "    'season_before_betrayal': 'min', # Same\n",
    "     'all_words': 'sum' # Adding all words in a season\n",
    "})\n",
    "\n",
    "features_per_season = aggreagted_features_per_season.reset_index()\n",
    "\n",
    "# Add difference politeness deltas\n",
    "delta_politeness_role = features_per_season.groupby(by=['idx', 'season']).apply(lambda x: pd.Series(delta_politeness(x))).reset_index()\n",
    "features_per_season['delta_time_politeness'] = get_politeness_season(features_per_season)\n",
    "\n",
    "# Consider just betrayer data\n",
    "input_features = features_per_season[features_per_season['role'] == 'betrayer'].set_index(['idx', 'season']).join(delta_politeness_role.set_index(['idx', 'season'])).reset_index()\n",
    "\n",
    "X = input_features\n",
    "Y = (input_features['season_before_betrayal'] == 1.0).values.astype('float32')\n",
    "X.head()"
   ]
  },
  {
   "cell_type": "code",
   "execution_count": 10,
   "metadata": {},
   "outputs": [
    {
     "name": "stdout",
     "output_type": "stream",
     "text": [
      "Before cleaning:\n",
      "[\"can't\", 'dmz', 'key', 'the', \"i'm\", 'a', \"it's\", 'and', 'though', 'you', 'i', 'others', 'are', 'mun', 'happy', 'that', 'spring', 'be', 'offensive', 'my', 'would', '.', ',', 'planning', 'supply', 'swe', 'nth', 'making', 'bal', 'just', \"i'll\", 'fine', 'move', 'from', 'centers', 'us', 'missed', 'stabbing', 'apologies', 'austria', 'email', 'with', '&', 'means', 'bur', '2', 'territories', 'on', \"'\", 'fleets']\n",
      "\n",
      "After cleaning\n",
      "['though', 'others', 'happy', 'spring', 'offensive', 'would', 'planning', 'supply', 'making', 'fine', 'move', 'centers', 'missed', 'stabbing', 'apologies', 'austria', 'email', 'means', 'territories', 'fleets', 'part', 'away', 'assure', 'make', 'back']\n"
     ]
    }
   ],
   "source": [
    "from utils.text_preprocessing_utils import clean_words\n",
    "\n",
    "# Words combined look like this\n",
    "print('Before cleaning:')\n",
    "print(X['all_words'][70][:50])\n",
    "print(\"\")\n",
    "\n",
    "# We notice multiple stop words need to be removed, as well as contractions and very short, non-understanble words under3 characters\n",
    "X['all_words'] = X['all_words'].map(clean_words)\n",
    "\n",
    "print('After cleaning')\n",
    "print(X['all_words'][70][:50])"
   ]
  },
  {
   "cell_type": "code",
   "execution_count": 11,
   "metadata": {},
   "outputs": [
    {
     "name": "stdout",
     "output_type": "stream",
     "text": [
      "Max number of words per season 762\n",
      "Mean number of words per season 65.10859728506787\n",
      "Min number of words per season 0\n",
      "Number of unique words are 1992\n"
     ]
    },
    {
     "data": {
      "image/png": "[encoded data removed]",
      "text/plain": [
       "<Figure size 432x288 with 1 Axes>"
      ]
     },
     "metadata": {
      "needs_background": "light"
     },
     "output_type": "display_data"
    }
   ],
   "source": [
    "total_words_per_season = [len(X['all_words'][i]) for i in range(X.shape[0])]\n",
    "print('Max number of words per season', np.max(total_words_per_season))\n",
    "print('Mean number of words per season', np.mean(total_words_per_season))\n",
    "print('Min number of words per season', np.min(total_words_per_season))\n",
    "from utils.text_preprocessing_utils import read_glove_embeddings\n",
    "all_words = []\n",
    "for idx in range(X.shape[0]):\n",
    "    all_words = all_words + X['all_words'][idx]\n",
    "print('Number of unique words are', len(set(all_words)))\n",
    "\n",
    "plt.plot(total_words_per_season)\n",
    "plt.show()\n",
    "\n",
    "# Based on the following, we decide to pad/truncate to max 200 words and use an embedding matrix of 2140 words."
   ]
  },
  {
   "cell_type": "code",
   "execution_count": 12,
   "metadata": {},
   "outputs": [
    {
     "name": "stdout",
     "output_type": "stream",
     "text": [
      "Embeddings containing 1193514 word vectors.\n"
     ]
    }
   ],
   "source": [
    "from utils.text_preprocessing_utils import read_glove_embeddings, compute_relevant_embedding_matrix\n",
    "\n",
    "EMBEDDING_DIM = 25\n",
    "MAX_WORDS = 2147\n",
    "MAX_LEN = 200\n",
    "\n",
    "# Load the embeddings from Glove lowest dimensional trained embeddings\n",
    "embeddings = read_glove_embeddings('../glove.twitter.27B.25d.txt')\n",
    "\n",
    "# Get the matrix fo embeddings and mapping of words to rows in the embeddings matrix\n",
    "embedding_matrix, map_word_to_idx = compute_relevant_embedding_matrix(embeddings, all_words, MAX_WORDS,  EMBEDDING_DIM)\n",
    "\n",
    "def convert_word_to_id(words):\n",
    "    return [map_word_to_idx[w] for w in words if w in map_word_to_idx]\n",
    "\n",
    "# Convert the words to their idx in the matrix\n",
    "X['all_words'] = X['all_words'].map(convert_word_to_id)"
   ]
  },
  {
   "cell_type": "markdown",
   "metadata": {},
   "source": [
    "## Fusion model between numerical and embeddings"
   ]
  },
  {
   "cell_type": "code",
   "execution_count": 13,
   "metadata": {},
   "outputs": [
    {
     "name": "stdout",
     "output_type": "stream",
     "text": [
      "Embeddings model\n",
      "Model: \"functional_1\"\n",
      "_________________________________________________________________\n",
      "Layer (type)                 Output Shape              Param #   \n",
      "=================================================================\n",
      "emb_input (InputLayer)       [(None, 200)]             0         \n",
      "_________________________________________________________________\n",
      "embedding (Embedding)        (None, 200, 25)           53675     \n",
      "_________________________________________________________________\n",
      "lstm (LSTM)                  (None, 64)                23040     \n",
      "=================================================================\n",
      "Total params: 76,715\n",
      "Trainable params: 23,040\n",
      "Non-trainable params: 53,675\n",
      "_________________________________________________________________\n"
     ]
    }
   ],
   "source": [
    "from utils.models import get_embedding_submodel, get_numerical_submodel, get_combined_model\n",
    "\n",
    "tf.keras.backend.clear_session()\n",
    "model_embedding = get_embedding_submodel( MAX_LEN, MAX_WORDS, EMBEDDING_DIM, embedding_matrix)\n",
    "\n",
    "# The model to contain the embeddings\n",
    "print(\"Embeddings model\")\n",
    "model_embedding.summary()"
   ]
  },
  {
   "cell_type": "code",
   "execution_count": 14,
   "metadata": {},
   "outputs": [
    {
     "name": "stdout",
     "output_type": "stream",
     "text": [
      "Numerical model\n",
      "Model: \"functional_3\"\n",
      "_________________________________________________________________\n",
      "Layer (type)                 Output Shape              Param #   \n",
      "=================================================================\n",
      "num_input (InputLayer)       [(None, 10)]              0         \n",
      "_________________________________________________________________\n",
      "num_dense (Dense)            (None, 64)                704       \n",
      "=================================================================\n",
      "Total params: 704\n",
      "Trainable params: 704\n",
      "Non-trainable params: 0\n",
      "_________________________________________________________________\n"
     ]
    }
   ],
   "source": [
    "model_numerical = get_numerical_submodel(10)\n",
    "\n",
    "# The model to contain the numerical values\n",
    "print(\"Numerical model\")\n",
    "model_numerical.summary()"
   ]
  },
  {
   "cell_type": "code",
   "execution_count": 15,
   "metadata": {},
   "outputs": [
    {
     "data": {
      "text/plain": [
       "{'acc': 76.549,\n",
       " 'f1': 0.395,\n",
       " 'fn': 2158,\n",
       " 'fp': 5350,\n",
       " 'mmc': 0.204542,\n",
       " 'precision': 0.195,\n",
       " 'recall': 0.376,\n",
       " 'tn': 8881,\n",
       " 'tp': 1300}"
      ]
     },
     "execution_count": 15,
     "metadata": {},
     "output_type": "execute_result"
    }
   ],
   "source": [
    "from utils.models import get_numerical_model_x_inputs, get_embeddings_model_x_inputs, local_seed\n",
    "\n",
    "def train_and_predict_fusion_model(x_train, x_test, y_train, y_test):\n",
    "    x_train_1, x_test_1 = get_embeddings_model_x_inputs(x_train, x_test, MAX_LEN)\n",
    "    x_train_2, x_test_2 = get_numerical_model_x_inputs(x_train, x_test)\n",
    "\n",
    "    with local_seed(10):\n",
    "        tf.keras.backend.clear_session()\n",
    "        es = tf.keras.callbacks.EarlyStopping(monitor='val_loss', mode='min', verbose=0, patience=3)\n",
    "\n",
    "        class_weights = get_class_weights(Y)\n",
    "        model = get_combined_model(model_embedding, model_numerical)\n",
    "        result = model.fit({'input_1': x_train_1, 'input_2': x_train_2},\n",
    "            y_train, \n",
    "            batch_size = 32, \n",
    "            epochs=10,\n",
    "            callbacks=[es],\n",
    "            validation_data=({'input_1': x_test_1, 'input_2': x_test_2}, y_test),\n",
    "            class_weight=class_weights, verbose=0)\n",
    "\n",
    "    y_pred = model.predict_step({'input_1': x_test_1, 'input_2': x_test_2}).numpy()\n",
    "    y_pred_bool = y_pred > 0.5\n",
    "    return evaluate_model(y_test, y_pred_bool)\n",
    "\n",
    "\n",
    "x_train, x_test, y_train, y_test = train_test_split(X, Y, random_state = 10, stratify=Y, test_size=0.2, shuffle=True)\n",
    "train_and_predict_fusion_model(x_train, x_test, y_train, y_test )\n",
    "\n",
    "# f1_output, mmc_output = bootstrap_model_prediction(train_and_predict_fusion_model, 10, stratify=True, model_name=\"Fusion model\")\n",
    "# print('Average f1', f1_output[0])\n",
    "# print('Average mmc', mmc_output[0])"
   ]
  },
  {
   "cell_type": "markdown",
   "metadata": {},
   "source": [
    "## Embeddings only model"
   ]
  },
  {
   "cell_type": "code",
   "execution_count": 22,
   "metadata": {},
   "outputs": [
    {
     "name": "stdout",
     "output_type": "stream",
     "text": [
      "Training model Embeddings only model..\n"
     ]
    },
    {
     "name": "stderr",
     "output_type": "stream",
     "text": [
      "/home/ina/.local/lib/python3.7/site-packages/ipykernel_launcher.py:21: RuntimeWarning: invalid value encountered in greater\n",
      "/home/ina/Repos/EPFL/ADA-Project-Milestone3/utils/evaluation_utils.py:20: RuntimeWarning: invalid value encountered in long_scalars\n",
      "  precision = tp / (tp + fp)\n",
      "/home/ina/Repos/EPFL/ADA-Project-Milestone3/utils/evaluation_utils.py:9: RuntimeWarning: invalid value encountered in true_divide\n",
      "  return (TN * TP - FP * FN) / np.sqrt((TN + FN) * (FP + TP) * (TN + FP) * (FN + TP))\n",
      "/home/ina/Repos/EPFL/ADA-Project-Milestone3/utils/evaluation_utils.py:20: RuntimeWarning: invalid value encountered in long_scalars\n",
      "  precision = tp / (tp + fp)\n",
      "/home/ina/Repos/EPFL/ADA-Project-Milestone3/utils/evaluation_utils.py:9: RuntimeWarning: invalid value encountered in true_divide\n",
      "  return (TN * TP - FP * FN) / np.sqrt((TN + FN) * (FP + TP) * (TN + FP) * (FN + TP))\n",
      "/home/ina/Repos/EPFL/ADA-Project-Milestone3/utils/evaluation_utils.py:20: RuntimeWarning: invalid value encountered in long_scalars\n",
      "  precision = tp / (tp + fp)\n",
      "/home/ina/Repos/EPFL/ADA-Project-Milestone3/utils/evaluation_utils.py:9: RuntimeWarning: invalid value encountered in true_divide\n",
      "  return (TN * TP - FP * FN) / np.sqrt((TN + FN) * (FP + TP) * (TN + FP) * (FN + TP))\n",
      "/home/ina/.local/lib/python3.7/site-packages/ipykernel_launcher.py:21: RuntimeWarning: invalid value encountered in greater\n",
      "/home/ina/Repos/EPFL/ADA-Project-Milestone3/utils/evaluation_utils.py:20: RuntimeWarning: invalid value encountered in long_scalars\n",
      "  precision = tp / (tp + fp)\n",
      "/home/ina/Repos/EPFL/ADA-Project-Milestone3/utils/evaluation_utils.py:9: RuntimeWarning: invalid value encountered in true_divide\n",
      "  return (TN * TP - FP * FN) / np.sqrt((TN + FN) * (FP + TP) * (TN + FP) * (FN + TP))\n",
      "/home/ina/Repos/EPFL/ADA-Project-Milestone3/utils/evaluation_utils.py:20: RuntimeWarning: invalid value encountered in long_scalars\n",
      "  precision = tp / (tp + fp)\n",
      "/home/ina/Repos/EPFL/ADA-Project-Milestone3/utils/evaluation_utils.py:9: RuntimeWarning: invalid value encountered in true_divide\n",
      "  return (TN * TP - FP * FN) / np.sqrt((TN + FN) * (FP + TP) * (TN + FP) * (FN + TP))\n",
      "/home/ina/Repos/EPFL/ADA-Project-Milestone3/utils/evaluation_utils.py:20: RuntimeWarning: invalid value encountered in long_scalars\n",
      "  precision = tp / (tp + fp)\n",
      "/home/ina/Repos/EPFL/ADA-Project-Milestone3/utils/evaluation_utils.py:9: RuntimeWarning: invalid value encountered in true_divide\n",
      "  return (TN * TP - FP * FN) / np.sqrt((TN + FN) * (FP + TP) * (TN + FP) * (FN + TP))\n"
     ]
    },
    {
     "name": "stdout",
     "output_type": "stream",
     "text": [
      "Average F1-Score: 0.232\n",
      "Average MMC-Score: nan\n",
      "F1-Score: 95% confidence interval 0.000 and 0.435\n",
      "Matthews Corr Coef: 95% confidence interval -0.139 and 0.150\n"
     ]
    }
   ],
   "source": [
    "from utils.models import get_embedding_model_only\n",
    "\n",
    "def train_and_predict_embedding_model(x_train, x_test, y_train, y_test):\n",
    "    x_train_1, x_test_1 = get_embeddings_model_x_inputs(x_train, x_test, MAX_LEN)\n",
    "\n",
    "    with local_seed(10):\n",
    "        tf.keras.backend.clear_session()\n",
    "        es = tf.keras.callbacks.EarlyStopping(monitor='val_loss', mode='min', verbose=0, patience=5)\n",
    "    \n",
    "        class_weights = get_class_weights(Y)\n",
    "        model = get_embedding_model_only(MAX_LEN, MAX_WORDS, EMBEDDING_DIM, embedding_matrix)\n",
    "        result = model.fit(x_train_1,\n",
    "            y_train, \n",
    "            batch_size = 64, \n",
    "            epochs=15,\n",
    "            callbacks=[es],\n",
    "            validation_data=(x_test_1, y_test),\n",
    "            class_weight=class_weights, verbose=0)\n",
    "\n",
    "    y_pred = model.predict_step(x_test_1).numpy()\n",
    "    y_pred_bool = y_pred > 0.5\n",
    "    return evaluate_model(y_test, y_pred_bool)\n",
    "\n",
    "\n",
    "# x_train, x_test, y_train, y_test = train_test_split(X, Y, random_state = 10, test_size=0.2, shuffle=True)\n",
    "# train_and_predict_embedding_model(x_train, x_test, y_train, y_test)\n",
    "f1_output, mmc_output = bootstrap_model_prediction(train_and_predict_embedding_model, 20, stratify=True, model_name=\"Embeddings only model\")"
   ]
  },
  {
   "cell_type": "markdown",
   "metadata": {},
   "source": [
    "# How early can we predict betrayal?"
   ]
  },
  {
   "cell_type": "markdown",
   "metadata": {},
   "source": [
    "## Two seasons before betrayal"
   ]
  },
  {
   "cell_type": "markdown",
   "metadata": {},
   "source": [
    "The method we use to check this:\n",
    "- we use all relationships, even the non-betrayal, that we know will not end up with betrayal\n",
    "- we move back in time in each relationship at the point all relationships are two seasons away from betrayal\n",
    "- we label all seasons that are two seasons away of betrayal with the with the imminent outcome and the rest with 0"
   ]
  },
  {
   "cell_type": "code",
   "execution_count": 110,
   "metadata": {},
   "outputs": [
    {
     "data": {
      "text/html": [
       "<div>\n",
       "<style scoped>\n",
       "    .dataframe tbody tr th:only-of-type {\n",
       "        vertical-align: middle;\n",
       "    }\n",
       "\n",
       "    .dataframe tbody tr th {\n",
       "        vertical-align: top;\n",
       "    }\n",
       "\n",
       "    .dataframe thead th {\n",
       "        text-align: right;\n",
       "    }\n",
       "</style>\n",
       "<table border=\"1\" class=\"dataframe\">\n",
       "  <thead>\n",
       "    <tr style=\"text-align: right;\">\n",
       "      <th></th>\n",
       "      <th>sentiment_positive</th>\n",
       "      <th>sentiment_neutral</th>\n",
       "      <th>sentiment_negative</th>\n",
       "      <th>n_requests</th>\n",
       "      <th>n_words</th>\n",
       "      <th>n_sentences</th>\n",
       "      <th>politeness</th>\n",
       "      <th>delta_role_politeness</th>\n",
       "      <th>delta_time_politeness</th>\n",
       "      <th>friendship_length</th>\n",
       "    </tr>\n",
       "  </thead>\n",
       "  <tbody>\n",
       "    <tr>\n",
       "      <th>0</th>\n",
       "      <td>1.333333</td>\n",
       "      <td>1.333333</td>\n",
       "      <td>1.500000</td>\n",
       "      <td>3.666667</td>\n",
       "      <td>489</td>\n",
       "      <td>25</td>\n",
       "      <td>0.803328</td>\n",
       "      <td>-0.006665</td>\n",
       "      <td>0.000000</td>\n",
       "      <td>3.0</td>\n",
       "    </tr>\n",
       "    <tr>\n",
       "      <th>1</th>\n",
       "      <td>0.142857</td>\n",
       "      <td>0.857143</td>\n",
       "      <td>1.285714</td>\n",
       "      <td>1.285714</td>\n",
       "      <td>280</td>\n",
       "      <td>16</td>\n",
       "      <td>0.560083</td>\n",
       "      <td>-0.225425</td>\n",
       "      <td>-0.249910</td>\n",
       "      <td>3.0</td>\n",
       "    </tr>\n",
       "    <tr>\n",
       "      <th>2</th>\n",
       "      <td>2.000000</td>\n",
       "      <td>2.500000</td>\n",
       "      <td>2.000000</td>\n",
       "      <td>5.500000</td>\n",
       "      <td>333</td>\n",
       "      <td>13</td>\n",
       "      <td>0.982703</td>\n",
       "      <td>0.375372</td>\n",
       "      <td>0.197195</td>\n",
       "      <td>3.0</td>\n",
       "    </tr>\n",
       "    <tr>\n",
       "      <th>3</th>\n",
       "      <td>1.800000</td>\n",
       "      <td>0.800000</td>\n",
       "      <td>2.200000</td>\n",
       "      <td>3.200000</td>\n",
       "      <td>449</td>\n",
       "      <td>24</td>\n",
       "      <td>0.748802</td>\n",
       "      <td>0.177667</td>\n",
       "      <td>0.141471</td>\n",
       "      <td>3.0</td>\n",
       "    </tr>\n",
       "    <tr>\n",
       "      <th>4</th>\n",
       "      <td>1.000000</td>\n",
       "      <td>1.000000</td>\n",
       "      <td>1.000000</td>\n",
       "      <td>2.000000</td>\n",
       "      <td>78</td>\n",
       "      <td>6</td>\n",
       "      <td>0.899161</td>\n",
       "      <td>0.335738</td>\n",
       "      <td>0.328027</td>\n",
       "      <td>3.0</td>\n",
       "    </tr>\n",
       "  </tbody>\n",
       "</table>\n",
       "</div>"
      ],
      "text/plain": [
       "   sentiment_positive  sentiment_neutral  sentiment_negative  n_requests  \\\n",
       "0            1.333333           1.333333            1.500000    3.666667   \n",
       "1            0.142857           0.857143            1.285714    1.285714   \n",
       "2            2.000000           2.500000            2.000000    5.500000   \n",
       "3            1.800000           0.800000            2.200000    3.200000   \n",
       "4            1.000000           1.000000            1.000000    2.000000   \n",
       "\n",
       "   n_words  n_sentences  politeness  delta_role_politeness  \\\n",
       "0      489           25    0.803328              -0.006665   \n",
       "1      280           16    0.560083              -0.225425   \n",
       "2      333           13    0.982703               0.375372   \n",
       "3      449           24    0.748802               0.177667   \n",
       "4       78            6    0.899161               0.335738   \n",
       "\n",
       "   delta_time_politeness  friendship_length  \n",
       "0               0.000000                3.0  \n",
       "1              -0.249910                3.0  \n",
       "2               0.197195                3.0  \n",
       "3               0.141471                3.0  \n",
       "4               0.328027                3.0  "
      ]
     },
     "execution_count": 110,
     "metadata": {},
     "output_type": "execute_result"
    }
   ],
   "source": [
    "input_features_before = input_features[input_features['season_before_betrayal'] >= 2]\n",
    "\n",
    "X = input_features_before[['sentiment_positive', 'sentiment_neutral', 'sentiment_negative', 'n_requests', 'n_words', \n",
    "               'n_sentences', 'politeness', 'delta_role_politeness', 'delta_time_politeness', 'friendship_length']]\n",
    "Y = (input_features_before['season_before_betrayal'] == 2.0).values.astype('float32')\n",
    "X.head()"
   ]
  },
  {
   "cell_type": "code",
   "execution_count": 112,
   "metadata": {},
   "outputs": [
    {
     "name": "stdout",
     "output_type": "stream",
     "text": [
      "Training model ..\n",
      "Average F1-Score: 0.493\n",
      "Average MMC-Score: 0.271\n",
      "F1-Score: 95% confidence interval 0.214 and 0.722\n",
      "Matthews Corr Coef: 95% confidence interval -0.125 and 0.570\n"
     ]
    },
    {
     "data": {
      "text/plain": [
       "([0.493, 0.03378679281052069], [0.27091984999999996, 0.04371000036443996])"
      ]
     },
     "execution_count": 112,
     "metadata": {},
     "output_type": "execute_result"
    }
   ],
   "source": [
    "bootstrap_model_prediction(train_and_predict_logistic_regressionl_normalized, 20, stratify=True, model_name=\"\")"
   ]
  },
  {
   "cell_type": "markdown",
   "metadata": {},
   "source": [
    "## Three seasons before betrayal"
   ]
  },
  {
   "cell_type": "code",
   "execution_count": 113,
   "metadata": {},
   "outputs": [],
   "source": [
    "input_features_before = input_features[input_features['season_before_betrayal'] >= 3]\n",
    "\n",
    "X = input_features_before[['sentiment_positive', 'sentiment_neutral', 'sentiment_negative', 'n_requests', 'n_words', \n",
    "               'n_sentences', 'politeness', 'delta_role_politeness', 'delta_time_politeness', 'friendship_length']]\n",
    "Y = (input_features_before['season_before_betrayal'] == 3.0).values.astype('float32')"
   ]
  },
  {
   "cell_type": "code",
   "execution_count": 114,
   "metadata": {},
   "outputs": [
    {
     "name": "stdout",
     "output_type": "stream",
     "text": [
      "Training model ..\n",
      "Average F1-Score: 0.386\n",
      "Average MMC-Score: 0.195\n",
      "F1-Score: 95% confidence interval 0.231 and 0.556\n",
      "Matthews Corr Coef: 95% confidence interval -0.010 and 0.399\n"
     ]
    },
    {
     "data": {
      "text/plain": [
       "([0.38594999999999996, 0.022448944999241],\n",
       " [0.19491680000000003, 0.03118587636411545])"
      ]
     },
     "execution_count": 114,
     "metadata": {},
     "output_type": "execute_result"
    }
   ],
   "source": [
    "bootstrap_model_prediction(train_and_predict_logistic_regressionl_normalized, 20, stratify=True, model_name=\"\")"
   ]
  },
  {
   "cell_type": "markdown",
   "metadata": {},
   "source": [
    "## Four seasons before betrayal"
   ]
  },
  {
   "cell_type": "code",
   "execution_count": 115,
   "metadata": {},
   "outputs": [],
   "source": [
    "input_features_before = input_features[input_features['season_before_betrayal'] >= 4]\n",
    "\n",
    "X = input_features_before[['sentiment_positive', 'sentiment_neutral', 'sentiment_negative', 'n_requests', 'n_words', \n",
    "               'n_sentences', 'politeness', 'delta_role_politeness', 'delta_time_politeness', 'friendship_length']]\n",
    "Y = (input_features_before['season_before_betrayal'] == 4.0).values.astype('float32')"
   ]
  },
  {
   "cell_type": "code",
   "execution_count": 117,
   "metadata": {},
   "outputs": [
    {
     "name": "stdout",
     "output_type": "stream",
     "text": [
      "Training model Logistic Regr..\n",
      "Average F1-Score: 0.398\n",
      "Average MMC-Score: 0.356\n",
      "F1-Score: 95% confidence interval 0.189 and 0.667\n",
      "Matthews Corr Coef: 95% confidence interval 0.121 and 0.572\n"
     ]
    },
    {
     "data": {
      "text/plain": [
       "([0.39835, 0.03221133136678849], [0.356441, 0.030636611902393755])"
      ]
     },
     "execution_count": 117,
     "metadata": {},
     "output_type": "execute_result"
    }
   ],
   "source": [
    "bootstrap_model_prediction(train_and_predict_logistic_regressionl_normalized, 20, stratify=True, model_name=\"Logistic Regr\")"
   ]
  },
  {
   "cell_type": "markdown",
   "metadata": {},
   "source": [
    "# Let's help the player win!"
   ]
  },
  {
   "cell_type": "markdown",
   "metadata": {},
   "source": [
    "We want to see if we can better predict a future betrayal by using more than the previous season before betrayal. "
   ]
  },
  {
   "cell_type": "markdown",
   "metadata": {},
   "source": [
    "### Using two seasons up to betrayal"
   ]
  },
  {
   "cell_type": "code",
   "execution_count": 124,
   "metadata": {},
   "outputs": [],
   "source": [
    "X = input_features[['sentiment_positive', 'sentiment_neutral', 'sentiment_negative', 'n_requests', 'n_words', \n",
    "               'n_sentences', 'politeness', 'delta_role_politeness', 'delta_time_politeness', 'friendship_length']]\n",
    "Y = (input_features['season_before_betrayal']  <= 2.0).values.astype('int')"
   ]
  },
  {
   "cell_type": "code",
   "execution_count": 127,
   "metadata": {},
   "outputs": [
    {
     "name": "stdout",
     "output_type": "stream",
     "text": [
      "Training model Logistic Regr..\n",
      "Average F1-Score: 0.612\n",
      "Average MMC-Score: 0.349\n",
      "F1-Score: 95% confidence interval 0.462 and 0.761\n",
      "Matthews Corr Coef: 95% confidence interval 0.120 and 0.539\n"
     ]
    }
   ],
   "source": [
    "f1_scores, mmc_scores = bootstrap_model_prediction(train_and_predict_logistic_regressionl_normalized, 20, stratify=True, model_name=\"Logistic Regr\")"
   ]
  },
  {
   "cell_type": "code",
   "execution_count": 133,
   "metadata": {},
   "outputs": [
    {
     "name": "stdout",
     "output_type": "stream",
     "text": [
      "Training model Random Forest..\n"
     ]
    },
    {
     "name": "stderr",
     "output_type": "stream",
     "text": [
      "/home/ina/Repos/EPFL/ADA-Project-Milestone3/utils/evaluation_utils.py:20: RuntimeWarning: invalid value encountered in long_scalars\n",
      "  precision = tp / (tp + fp)\n",
      "/home/ina/Repos/EPFL/ADA-Project-Milestone3/utils/evaluation_utils.py:9: RuntimeWarning: invalid value encountered in true_divide\n",
      "  return (TN * TP - FP * FN) / np.sqrt((TN + FN) * (FP + TP) * (TN + FP) * (FN + TP))\n"
     ]
    },
    {
     "name": "stdout",
     "output_type": "stream",
     "text": [
      "Average F1-Score: 0.000\n",
      "Average MMC-Score: nan\n",
      "F1-Score: 95% confidence interval 0.000 and 0.000\n",
      "Matthews Corr Coef: 95% confidence interval -0.148 and 0.000\n"
     ]
    },
    {
     "name": "stderr",
     "output_type": "stream",
     "text": [
      "/home/ina/Repos/EPFL/ADA-Project-Milestone3/utils/evaluation_utils.py:20: RuntimeWarning: invalid value encountered in long_scalars\n",
      "  precision = tp / (tp + fp)\n",
      "/home/ina/Repos/EPFL/ADA-Project-Milestone3/utils/evaluation_utils.py:9: RuntimeWarning: invalid value encountered in true_divide\n",
      "  return (TN * TP - FP * FN) / np.sqrt((TN + FN) * (FP + TP) * (TN + FP) * (FN + TP))\n"
     ]
    },
    {
     "data": {
      "text/plain": [
       "([0.0, 0.0], [nan, nan])"
      ]
     },
     "execution_count": 133,
     "metadata": {},
     "output_type": "execute_result"
    }
   ],
   "source": [
    "bootstrap_model_prediction(train_and_predict_random_forest, 4, stratify=False, model_name=\"Random Forest\")"
   ]
  },
  {
   "cell_type": "markdown",
   "metadata": {},
   "source": [
    "### Using three seasons up to betrayal"
   ]
  },
  {
   "cell_type": "code",
   "execution_count": 134,
   "metadata": {},
   "outputs": [],
   "source": [
    "X = input_features[['sentiment_positive', 'sentiment_neutral', 'sentiment_negative', 'n_requests', 'n_words', \n",
    "               'n_sentences', 'politeness', 'delta_role_politeness', 'delta_time_politeness', 'friendship_length']]\n",
    "Y = (input_features['season_before_betrayal']  <= 3.0).values.astype('int')"
   ]
  },
  {
   "cell_type": "code",
   "execution_count": 135,
   "metadata": {},
   "outputs": [
    {
     "name": "stdout",
     "output_type": "stream",
     "text": [
      "Training model Logistic Regr..\n",
      "Average F1-Score: 0.624\n",
      "Average MMC-Score: 0.278\n",
      "F1-Score: 95% confidence interval 0.530 and 0.757\n",
      "Matthews Corr Coef: 95% confidence interval 0.094 and 0.463\n"
     ]
    }
   ],
   "source": [
    "f1_scores, mmc_scores = bootstrap_model_prediction(train_and_predict_logistic_regressionl_normalized, 20, stratify=True, model_name=\"Logistic Regr\")"
   ]
  },
  {
   "cell_type": "code",
   "execution_count": 136,
   "metadata": {},
   "outputs": [
    {
     "name": "stdout",
     "output_type": "stream",
     "text": [
      "Training model Random Forest..\n",
      "Average F1-Score: 0.654\n",
      "Average MMC-Score: 0.250\n",
      "F1-Score: 95% confidence interval 0.596 and 0.724\n",
      "Matthews Corr Coef: 95% confidence interval 0.165 and 0.307\n"
     ]
    },
    {
     "data": {
      "text/plain": [
       "([0.654, 0.024312548200466362], [0.2502904, 0.026682024313383724])"
      ]
     },
     "execution_count": 136,
     "metadata": {},
     "output_type": "execute_result"
    }
   ],
   "source": [
    "bootstrap_model_prediction(train_and_predict_random_forest, 5, stratify=False, model_name=\"Random Forest\")"
   ]
  }
 ],
 "metadata": {
  "kernelspec": {
   "display_name": "Python 3",
   "language": "python",
   "name": "python3"
  },
  "language_info": {
   "codemirror_mode": {
    "name": "ipython",
    "version": 3
   },
   "file_extension": ".py",
   "mimetype": "text/x-python",
   "name": "python",
   "nbconvert_exporter": "python",
   "pygments_lexer": "ipython3",
   "version": "3.7.5"
  }
 },
 "nbformat": 4,
 "nbformat_minor": 4
}
