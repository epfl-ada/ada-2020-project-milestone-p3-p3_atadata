{
 "cells": [
  {
   "cell_type": "markdown",
   "metadata": {},
   "source": [
    "# Creative Extension : Linguistic Harbingers of Betrayal"
   ]
  },
  {
   "cell_type": "markdown",
   "metadata": {},
   "source": [
    "### CS-401 Applied Data Analysis - Fall 2020 semester"
   ]
  },
  {
   "cell_type": "code",
   "execution_count": 1,
   "metadata": {},
   "outputs": [],
   "source": [
    "%matplotlib inline\n",
    "\n",
    "import json\n",
    "import os\n",
    "import matplotlib.pyplot as plt\n",
    "import pandas as pd\n",
    "import numpy as np\n",
    "import tensorflow as tf\n",
    "import random\n",
    "\n",
    "from sklearn.preprocessing import StandardScaler\n",
    "from sklearn.model_selection import train_test_split\n",
    "from sklearn.utils import resample\n",
    "\n",
    "from sklearn.linear_model import LogisticRegression"
   ]
  },
  {
   "cell_type": "code",
   "execution_count": 2,
   "metadata": {},
   "outputs": [],
   "source": [
    "from utils.preprocess_data import preprocessing, get_nb_msg, treat_msg_season\n",
    "from utils.evaluation_utils import confidence_interval, evaluate_model\n",
    "from utils.models import get_class_weights"
   ]
  },
  {
   "cell_type": "markdown",
   "metadata": {},
   "source": [
    "# Getting the dataset"
   ]
  },
  {
   "cell_type": "markdown",
   "metadata": {},
   "source": [
    "Let's get first the core object for our project, ***the data*** ! "
   ]
  },
  {
   "cell_type": "markdown",
   "metadata": {},
   "source": [
    "We will use here the dataset provided by the authors we will methods that can be found in `preprocess_data.py` to extract the features into a clean pandas frame."
   ]
  },
  {
   "cell_type": "code",
   "execution_count": 3,
   "metadata": {},
   "outputs": [
    {
     "data": {
      "text/html": [
       "<div>\n",
       "<style scoped>\n",
       "    .dataframe tbody tr th:only-of-type {\n",
       "        vertical-align: middle;\n",
       "    }\n",
       "\n",
       "    .dataframe tbody tr th {\n",
       "        vertical-align: top;\n",
       "    }\n",
       "\n",
       "    .dataframe thead th {\n",
       "        text-align: right;\n",
       "    }\n",
       "</style>\n",
       "<table border=\"1\" class=\"dataframe\">\n",
       "  <thead>\n",
       "    <tr style=\"text-align: right;\">\n",
       "      <th></th>\n",
       "      <th></th>\n",
       "      <th>sentiment_positive</th>\n",
       "      <th>sentiment_neutral</th>\n",
       "      <th>sentiment_negative</th>\n",
       "      <th>n_requests</th>\n",
       "      <th>frequent_words</th>\n",
       "      <th>n_words</th>\n",
       "      <th>politeness</th>\n",
       "      <th>n_sentences</th>\n",
       "      <th>n_disc_words</th>\n",
       "      <th>disc_words</th>\n",
       "      <th>all_words</th>\n",
       "      <th>role</th>\n",
       "      <th>betrayal</th>\n",
       "      <th>season_betrayal</th>\n",
       "      <th>season_before_betrayal</th>\n",
       "      <th>friendship_length</th>\n",
       "    </tr>\n",
       "    <tr>\n",
       "      <th>idx</th>\n",
       "      <th>season</th>\n",
       "      <th></th>\n",
       "      <th></th>\n",
       "      <th></th>\n",
       "      <th></th>\n",
       "      <th></th>\n",
       "      <th></th>\n",
       "      <th></th>\n",
       "      <th></th>\n",
       "      <th></th>\n",
       "      <th></th>\n",
       "      <th></th>\n",
       "      <th></th>\n",
       "      <th></th>\n",
       "      <th></th>\n",
       "      <th></th>\n",
       "      <th></th>\n",
       "    </tr>\n",
       "  </thead>\n",
       "  <tbody>\n",
       "    <tr>\n",
       "      <th rowspan=\"5\" valign=\"top\">0</th>\n",
       "      <th>1906.5</th>\n",
       "      <td>0</td>\n",
       "      <td>0</td>\n",
       "      <td>2</td>\n",
       "      <td>1</td>\n",
       "      <td>[just, bot, ,, ., take, unit, war, retreat, di...</td>\n",
       "      <td>35</td>\n",
       "      <td>0.367200</td>\n",
       "      <td>2</td>\n",
       "      <td>7</td>\n",
       "      <td>[just, war, prefer, really, light, retreat, in...</td>\n",
       "      <td>[mos, prefer, retreat, in light of, of, turn, ...</td>\n",
       "      <td>victim</td>\n",
       "      <td>True</td>\n",
       "      <td>1909.5</td>\n",
       "      <td>6.0</td>\n",
       "      <td>3.0</td>\n",
       "    </tr>\n",
       "    <tr>\n",
       "      <th>1906.5</th>\n",
       "      <td>1</td>\n",
       "      <td>1</td>\n",
       "      <td>4</td>\n",
       "      <td>2</td>\n",
       "      <td>[armies, north, the, armies, on, ., your, with...</td>\n",
       "      <td>77</td>\n",
       "      <td>0.932326</td>\n",
       "      <td>6</td>\n",
       "      <td>16</td>\n",
       "      <td>[against, lose, even, loss, support, attack, g...</td>\n",
       "      <td>[mos, moves, support, france, i'll, of, sounds...</td>\n",
       "      <td>victim</td>\n",
       "      <td>True</td>\n",
       "      <td>1909.5</td>\n",
       "      <td>6.0</td>\n",
       "      <td>3.0</td>\n",
       "    </tr>\n",
       "    <tr>\n",
       "      <th>1906.5</th>\n",
       "      <td>1</td>\n",
       "      <td>2</td>\n",
       "      <td>1</td>\n",
       "      <td>2</td>\n",
       "      <td>[?, going, for, ser, balance, a, to, of, give,...</td>\n",
       "      <td>55</td>\n",
       "      <td>0.983373</td>\n",
       "      <td>4</td>\n",
       "      <td>14</td>\n",
       "      <td>[rather, light, would, lose, retreat, could, p...</td>\n",
       "      <td>[mos, retreat, supply, in light of, give, woul...</td>\n",
       "      <td>victim</td>\n",
       "      <td>True</td>\n",
       "      <td>1909.5</td>\n",
       "      <td>6.0</td>\n",
       "      <td>3.0</td>\n",
       "    </tr>\n",
       "    <tr>\n",
       "      <th>1906.5</th>\n",
       "      <td>4</td>\n",
       "      <td>2</td>\n",
       "      <td>13</td>\n",
       "      <td>8</td>\n",
       "      <td>[only, he, alb, ., forced, italy's, is, be, .,...</td>\n",
       "      <td>313</td>\n",
       "      <td>0.957072</td>\n",
       "      <td>19</td>\n",
       "      <td>71</td>\n",
       "      <td>[so, so, before, while, before, still, as long...</td>\n",
       "      <td>[go, support, while, ion, before, tun, each, w...</td>\n",
       "      <td>victim</td>\n",
       "      <td>True</td>\n",
       "      <td>1909.5</td>\n",
       "      <td>6.0</td>\n",
       "      <td>3.0</td>\n",
       "    </tr>\n",
       "    <tr>\n",
       "      <th>1906.5</th>\n",
       "      <td>1</td>\n",
       "      <td>3</td>\n",
       "      <td>5</td>\n",
       "      <td>7</td>\n",
       "      <td>[more, let, keep, we, side, we, don't, to, ., ...</td>\n",
       "      <td>146</td>\n",
       "      <td>0.832023</td>\n",
       "      <td>9</td>\n",
       "      <td>38</td>\n",
       "      <td>[before, still, move, ally, will, want, will, ...</td>\n",
       "      <td>[support, before, don't, ., think, a, helping,...</td>\n",
       "      <td>betrayer</td>\n",
       "      <td>True</td>\n",
       "      <td>1909.5</td>\n",
       "      <td>6.0</td>\n",
       "      <td>3.0</td>\n",
       "    </tr>\n",
       "  </tbody>\n",
       "</table>\n",
       "</div>"
      ],
      "text/plain": [
       "            sentiment_positive  sentiment_neutral  sentiment_negative  \\\n",
       "idx season                                                              \n",
       "0   1906.5                   0                  0                   2   \n",
       "    1906.5                   1                  1                   4   \n",
       "    1906.5                   1                  2                   1   \n",
       "    1906.5                   4                  2                  13   \n",
       "    1906.5                   1                  3                   5   \n",
       "\n",
       "            n_requests                                     frequent_words  \\\n",
       "idx season                                                                  \n",
       "0   1906.5           1  [just, bot, ,, ., take, unit, war, retreat, di...   \n",
       "    1906.5           2  [armies, north, the, armies, on, ., your, with...   \n",
       "    1906.5           2  [?, going, for, ser, balance, a, to, of, give,...   \n",
       "    1906.5           8  [only, he, alb, ., forced, italy's, is, be, .,...   \n",
       "    1906.5           7  [more, let, keep, we, side, we, don't, to, ., ...   \n",
       "\n",
       "            n_words  politeness  n_sentences  n_disc_words  \\\n",
       "idx season                                                   \n",
       "0   1906.5       35    0.367200            2             7   \n",
       "    1906.5       77    0.932326            6            16   \n",
       "    1906.5       55    0.983373            4            14   \n",
       "    1906.5      313    0.957072           19            71   \n",
       "    1906.5      146    0.832023            9            38   \n",
       "\n",
       "                                                   disc_words  \\\n",
       "idx season                                                      \n",
       "0   1906.5  [just, war, prefer, really, light, retreat, in...   \n",
       "    1906.5  [against, lose, even, loss, support, attack, g...   \n",
       "    1906.5  [rather, light, would, lose, retreat, could, p...   \n",
       "    1906.5  [so, so, before, while, before, still, as long...   \n",
       "    1906.5  [before, still, move, ally, will, want, will, ...   \n",
       "\n",
       "                                                    all_words      role  \\\n",
       "idx season                                                                \n",
       "0   1906.5  [mos, prefer, retreat, in light of, of, turn, ...    victim   \n",
       "    1906.5  [mos, moves, support, france, i'll, of, sounds...    victim   \n",
       "    1906.5  [mos, retreat, supply, in light of, give, woul...    victim   \n",
       "    1906.5  [go, support, while, ion, before, tun, each, w...    victim   \n",
       "    1906.5  [support, before, don't, ., think, a, helping,...  betrayer   \n",
       "\n",
       "            betrayal  season_betrayal  season_before_betrayal  \\\n",
       "idx season                                                      \n",
       "0   1906.5      True           1909.5                     6.0   \n",
       "    1906.5      True           1909.5                     6.0   \n",
       "    1906.5      True           1909.5                     6.0   \n",
       "    1906.5      True           1909.5                     6.0   \n",
       "    1906.5      True           1909.5                     6.0   \n",
       "\n",
       "            friendship_length  \n",
       "idx season                     \n",
       "0   1906.5                3.0  \n",
       "    1906.5                3.0  \n",
       "    1906.5                3.0  \n",
       "    1906.5                3.0  \n",
       "    1906.5                3.0  "
      ]
     },
     "execution_count": 3,
     "metadata": {},
     "output_type": "execute_result"
    }
   ],
   "source": [
    "data = pd.read_json(\"diplomacy_data/diplomacy_data.json\")\n",
    "df = preprocessing(data)\n",
    "df.head()"
   ]
  },
  {
   "cell_type": "markdown",
   "metadata": {},
   "source": [
    "For understanding the data that we have, we first plot the distribution of seasons and understanding how many positive samples do we have."
   ]
  },
  {
   "cell_type": "code",
   "execution_count": 4,
   "metadata": {},
   "outputs": [
    {
     "data": {
      "image/png": "[encoded data removed]",
      "text/plain": [
       "<Figure size 576x360 with 1 Axes>"
      ]
     },
     "metadata": {
      "needs_background": "light"
     },
     "output_type": "display_data"
    }
   ],
   "source": [
    "number_seasons_before_betrayal = df[(df[\"betrayal\"]==True) & (df[\"role\"] == \"betrayer\")].reset_index().groupby('season_before_betrayal').count()['idx']\n",
    "\n",
    "plt.figure(figsize=(8, 5))\n",
    "ax = number_seasons_before_betrayal.plot(kind='bar')\n",
    "ax.set_xlabel(\"X seasons before betrayal\")\n",
    "ax.set_ylabel('Number of seasons')\n",
    "ax.set_title('Number of seasons at same distance from betrayal', fontsize=14)\n",
    "# ax.set_xticklabels(list(number_seasons_before_betrayal))\n",
    "\n",
    "for rect, label in zip(ax.patches, list(number_seasons_before_betrayal)):\n",
    "    height = rect.get_height()\n",
    "    ax.text(rect.get_x() + rect.get_width() / 2, height + 5, label,\n",
    "            ha='center', va='bottom')\n",
    "\n",
    "plt.show()"
   ]
  },
  {
   "cell_type": "markdown",
   "metadata": {},
   "source": [
    "There are 343 instances of 1 season before betrayal, 360 instances of 2 seasons before betrayal etc."
   ]
  },
  {
   "cell_type": "code",
   "execution_count": 5,
   "metadata": {},
   "outputs": [
    {
     "name": "stdout",
     "output_type": "stream",
     "text": [
      "There is a number of 1895 seasons.\n",
      "There is an imbalance of 0.18100263852242743\n"
     ]
    }
   ],
   "source": [
    "print('There is a number of {} seasons.'.format(np.sum(number_seasons_before_betrayal)))\n",
    "print('There is an imbalance of {}'.format(number_seasons_before_betrayal.iloc[0] / np.sum(number_seasons_before_betrayal)))"
   ]
  },
  {
   "cell_type": "markdown",
   "metadata": {},
   "source": [
    "# Predict Imminent Betrayal"
   ]
  },
  {
   "cell_type": "markdown",
   "metadata": {},
   "source": [
    "We first try to predict better imminent betrayal. Our approach is similar to the authors in Section 5 to see if we can improve results and ensure corectness."
   ]
  },
  {
   "cell_type": "markdown",
   "metadata": {},
   "source": [
    "## Models"
   ]
  },
  {
   "cell_type": "markdown",
   "metadata": {},
   "source": [
    "We explore using different models and pick up the best one! First, we will explore using:\n",
    "* Logistic Regression\n",
    "* Decision Trees: Random Forest\n",
    "* Decision Trees: XGBoost\n",
    "* Feed forward neural networks"
   ]
  },
  {
   "cell_type": "markdown",
   "metadata": {},
   "source": [
    "### Prepare input data"
   ]
  },
  {
   "cell_type": "markdown",
   "metadata": {},
   "source": [
    "Preprocess the data as described in the authors' paper."
   ]
  },
  {
   "cell_type": "code",
   "execution_count": 6,
   "metadata": {},
   "outputs": [
    {
     "data": {
      "text/html": [
       "<div>\n",
       "<style scoped>\n",
       "    .dataframe tbody tr th:only-of-type {\n",
       "        vertical-align: middle;\n",
       "    }\n",
       "\n",
       "    .dataframe tbody tr th {\n",
       "        vertical-align: top;\n",
       "    }\n",
       "\n",
       "    .dataframe thead th {\n",
       "        text-align: right;\n",
       "    }\n",
       "</style>\n",
       "<table border=\"1\" class=\"dataframe\">\n",
       "  <thead>\n",
       "    <tr style=\"text-align: right;\">\n",
       "      <th></th>\n",
       "      <th></th>\n",
       "      <th></th>\n",
       "      <th>sentiment_positive</th>\n",
       "      <th>sentiment_neutral</th>\n",
       "      <th>sentiment_negative</th>\n",
       "      <th>n_requests</th>\n",
       "      <th>n_words</th>\n",
       "      <th>n_disc_words</th>\n",
       "      <th>politeness</th>\n",
       "      <th>n_sentences</th>\n",
       "      <th>friendship_length</th>\n",
       "      <th>season_before_betrayal</th>\n",
       "    </tr>\n",
       "    <tr>\n",
       "      <th>idx</th>\n",
       "      <th>season</th>\n",
       "      <th>role</th>\n",
       "      <th></th>\n",
       "      <th></th>\n",
       "      <th></th>\n",
       "      <th></th>\n",
       "      <th></th>\n",
       "      <th></th>\n",
       "      <th></th>\n",
       "      <th></th>\n",
       "      <th></th>\n",
       "      <th></th>\n",
       "    </tr>\n",
       "  </thead>\n",
       "  <tbody>\n",
       "    <tr>\n",
       "      <th rowspan=\"5\" valign=\"top\">0</th>\n",
       "      <th rowspan=\"2\" valign=\"top\">1906.5</th>\n",
       "      <th>betrayer</th>\n",
       "      <td>1.333333</td>\n",
       "      <td>1.333333</td>\n",
       "      <td>1.500000</td>\n",
       "      <td>3.666667</td>\n",
       "      <td>489</td>\n",
       "      <td>120</td>\n",
       "      <td>0.803328</td>\n",
       "      <td>25</td>\n",
       "      <td>3.0</td>\n",
       "      <td>6.0</td>\n",
       "    </tr>\n",
       "    <tr>\n",
       "      <th>victim</th>\n",
       "      <td>1.500000</td>\n",
       "      <td>1.250000</td>\n",
       "      <td>5.000000</td>\n",
       "      <td>3.250000</td>\n",
       "      <td>480</td>\n",
       "      <td>108</td>\n",
       "      <td>0.809993</td>\n",
       "      <td>31</td>\n",
       "      <td>3.0</td>\n",
       "      <td>6.0</td>\n",
       "    </tr>\n",
       "    <tr>\n",
       "      <th rowspan=\"2\" valign=\"top\">1907.0</th>\n",
       "      <th>betrayer</th>\n",
       "      <td>0.142857</td>\n",
       "      <td>0.857143</td>\n",
       "      <td>1.285714</td>\n",
       "      <td>1.285714</td>\n",
       "      <td>280</td>\n",
       "      <td>46</td>\n",
       "      <td>0.560083</td>\n",
       "      <td>16</td>\n",
       "      <td>3.0</td>\n",
       "      <td>5.0</td>\n",
       "    </tr>\n",
       "    <tr>\n",
       "      <th>victim</th>\n",
       "      <td>1.333333</td>\n",
       "      <td>0.666667</td>\n",
       "      <td>1.000000</td>\n",
       "      <td>0.666667</td>\n",
       "      <td>93</td>\n",
       "      <td>15</td>\n",
       "      <td>0.785508</td>\n",
       "      <td>9</td>\n",
       "      <td>3.0</td>\n",
       "      <td>5.0</td>\n",
       "    </tr>\n",
       "    <tr>\n",
       "      <th>1907.5</th>\n",
       "      <th>betrayer</th>\n",
       "      <td>2.000000</td>\n",
       "      <td>2.500000</td>\n",
       "      <td>2.000000</td>\n",
       "      <td>5.500000</td>\n",
       "      <td>333</td>\n",
       "      <td>87</td>\n",
       "      <td>0.982703</td>\n",
       "      <td>13</td>\n",
       "      <td>3.0</td>\n",
       "      <td>4.0</td>\n",
       "    </tr>\n",
       "  </tbody>\n",
       "</table>\n",
       "</div>"
      ],
      "text/plain": [
       "                     sentiment_positive  sentiment_neutral  \\\n",
       "idx season role                                              \n",
       "0   1906.5 betrayer            1.333333           1.333333   \n",
       "           victim              1.500000           1.250000   \n",
       "    1907.0 betrayer            0.142857           0.857143   \n",
       "           victim              1.333333           0.666667   \n",
       "    1907.5 betrayer            2.000000           2.500000   \n",
       "\n",
       "                     sentiment_negative  n_requests  n_words  n_disc_words  \\\n",
       "idx season role                                                              \n",
       "0   1906.5 betrayer            1.500000    3.666667      489           120   \n",
       "           victim              5.000000    3.250000      480           108   \n",
       "    1907.0 betrayer            1.285714    1.285714      280            46   \n",
       "           victim              1.000000    0.666667       93            15   \n",
       "    1907.5 betrayer            2.000000    5.500000      333            87   \n",
       "\n",
       "                     politeness  n_sentences  friendship_length  \\\n",
       "idx season role                                                   \n",
       "0   1906.5 betrayer    0.803328           25                3.0   \n",
       "           victim      0.809993           31                3.0   \n",
       "    1907.0 betrayer    0.560083           16                3.0   \n",
       "           victim      0.785508            9                3.0   \n",
       "    1907.5 betrayer    0.982703           13                3.0   \n",
       "\n",
       "                     season_before_betrayal  \n",
       "idx season role                              \n",
       "0   1906.5 betrayer                     6.0  \n",
       "           victim                       6.0  \n",
       "    1907.0 betrayer                     5.0  \n",
       "           victim                       5.0  \n",
       "    1907.5 betrayer                     4.0  "
      ]
     },
     "execution_count": 6,
     "metadata": {},
     "output_type": "execute_result"
    }
   ],
   "source": [
    "features_data = df.copy()\n",
    "\n",
    "# Consider only the betrayals relationships\n",
    "features_data = features_data[features_data['betrayal'] == True]\n",
    "\n",
    "# Drop words as we cannot consider as features here and betrayal infos\n",
    "features_data = features_data.drop(columns=['frequent_words', 'all_words', 'season_betrayal', 'betrayal'])\n",
    "\n",
    "aggreagted_features_per_season = features_data.groupby(['idx', 'season', 'role'], as_index=True).aggregate({\n",
    "    'sentiment_positive': 'mean',\n",
    "    'sentiment_neutral': 'mean',\n",
    "    'sentiment_negative': 'mean',\n",
    "    'n_requests': 'mean',\n",
    "    'n_words': 'sum',\n",
    "    'n_disc_words': 'sum',\n",
    "    'politeness': 'mean',\n",
    "    'n_sentences': 'sum',\n",
    "    'friendship_length': 'min', # Same\n",
    "    'season_before_betrayal': 'min' # Same\n",
    "})\n",
    "\n",
    "aggreagted_features_per_season.head()"
   ]
  },
  {
   "cell_type": "markdown",
   "metadata": {},
   "source": [
    "Expand the feature with the difference in politeness between victim and betrayer and with the difference in betrayals' politeness between current and previous season. Moreover, add the length of the friendship that we compute using the first and last support action."
   ]
  },
  {
   "cell_type": "code",
   "execution_count": 7,
   "metadata": {},
   "outputs": [
    {
     "data": {
      "text/html": [
       "<div>\n",
       "<style scoped>\n",
       "    .dataframe tbody tr th:only-of-type {\n",
       "        vertical-align: middle;\n",
       "    }\n",
       "\n",
       "    .dataframe tbody tr th {\n",
       "        vertical-align: top;\n",
       "    }\n",
       "\n",
       "    .dataframe thead th {\n",
       "        text-align: right;\n",
       "    }\n",
       "</style>\n",
       "<table border=\"1\" class=\"dataframe\">\n",
       "  <thead>\n",
       "    <tr style=\"text-align: right;\">\n",
       "      <th></th>\n",
       "      <th>sentiment_positive</th>\n",
       "      <th>sentiment_neutral</th>\n",
       "      <th>sentiment_negative</th>\n",
       "      <th>n_requests</th>\n",
       "      <th>n_words</th>\n",
       "      <th>politeness</th>\n",
       "      <th>n_sentences</th>\n",
       "      <th>delta_role_politeness</th>\n",
       "      <th>delta_time_politeness</th>\n",
       "      <th>friendship_length</th>\n",
       "    </tr>\n",
       "  </thead>\n",
       "  <tbody>\n",
       "    <tr>\n",
       "      <th>0</th>\n",
       "      <td>1.333333</td>\n",
       "      <td>1.333333</td>\n",
       "      <td>1.500000</td>\n",
       "      <td>3.666667</td>\n",
       "      <td>489</td>\n",
       "      <td>0.803328</td>\n",
       "      <td>25</td>\n",
       "      <td>-0.006665</td>\n",
       "      <td>0.000000</td>\n",
       "      <td>3.0</td>\n",
       "    </tr>\n",
       "    <tr>\n",
       "      <th>1</th>\n",
       "      <td>0.142857</td>\n",
       "      <td>0.857143</td>\n",
       "      <td>1.285714</td>\n",
       "      <td>1.285714</td>\n",
       "      <td>280</td>\n",
       "      <td>0.560083</td>\n",
       "      <td>16</td>\n",
       "      <td>-0.225425</td>\n",
       "      <td>-0.249910</td>\n",
       "      <td>3.0</td>\n",
       "    </tr>\n",
       "    <tr>\n",
       "      <th>2</th>\n",
       "      <td>2.000000</td>\n",
       "      <td>2.500000</td>\n",
       "      <td>2.000000</td>\n",
       "      <td>5.500000</td>\n",
       "      <td>333</td>\n",
       "      <td>0.982703</td>\n",
       "      <td>13</td>\n",
       "      <td>0.375372</td>\n",
       "      <td>0.197195</td>\n",
       "      <td>3.0</td>\n",
       "    </tr>\n",
       "    <tr>\n",
       "      <th>3</th>\n",
       "      <td>1.800000</td>\n",
       "      <td>0.800000</td>\n",
       "      <td>2.200000</td>\n",
       "      <td>3.200000</td>\n",
       "      <td>449</td>\n",
       "      <td>0.748802</td>\n",
       "      <td>24</td>\n",
       "      <td>0.177667</td>\n",
       "      <td>0.141471</td>\n",
       "      <td>3.0</td>\n",
       "    </tr>\n",
       "    <tr>\n",
       "      <th>4</th>\n",
       "      <td>1.000000</td>\n",
       "      <td>1.000000</td>\n",
       "      <td>1.000000</td>\n",
       "      <td>2.000000</td>\n",
       "      <td>78</td>\n",
       "      <td>0.899161</td>\n",
       "      <td>6</td>\n",
       "      <td>0.335738</td>\n",
       "      <td>0.328027</td>\n",
       "      <td>3.0</td>\n",
       "    </tr>\n",
       "  </tbody>\n",
       "</table>\n",
       "</div>"
      ],
      "text/plain": [
       "   sentiment_positive  sentiment_neutral  sentiment_negative  n_requests  \\\n",
       "0            1.333333           1.333333            1.500000    3.666667   \n",
       "1            0.142857           0.857143            1.285714    1.285714   \n",
       "2            2.000000           2.500000            2.000000    5.500000   \n",
       "3            1.800000           0.800000            2.200000    3.200000   \n",
       "4            1.000000           1.000000            1.000000    2.000000   \n",
       "\n",
       "   n_words  politeness  n_sentences  delta_role_politeness  \\\n",
       "0      489    0.803328           25              -0.006665   \n",
       "1      280    0.560083           16              -0.225425   \n",
       "2      333    0.982703           13               0.375372   \n",
       "3      449    0.748802           24               0.177667   \n",
       "4       78    0.899161            6               0.335738   \n",
       "\n",
       "   delta_time_politeness  friendship_length  \n",
       "0               0.000000                3.0  \n",
       "1              -0.249910                3.0  \n",
       "2               0.197195                3.0  \n",
       "3               0.141471                3.0  \n",
       "4               0.328027                3.0  "
      ]
     },
     "execution_count": 7,
     "metadata": {},
     "output_type": "execute_result"
    }
   ],
   "source": [
    "features_per_season = aggreagted_features_per_season.reset_index()\n",
    "\n",
    "# Add difference between politeness score in victim and betrayer\n",
    "def delta_politeness(x):\n",
    "    return {'delta_role_politeness': (x[x['role'] == 'betrayer']['politeness'].values - x[x['role'] == 'victim']['politeness'].values).item()}\n",
    "delta_politeness_role = features_per_season.groupby(by=['idx', 'season']).apply(lambda x: pd.Series(delta_politeness(x))).reset_index()\n",
    "\n",
    "\n",
    "def get_politeness_season(features_per_season):\n",
    "    data_time = features_per_season.groupby(['idx']).apply(lambda x: pd.Series({\n",
    "        'delta_time': x['politeness'].values - np.append(x['politeness'].values[0], x['politeness'].values[:-1])\n",
    "}))\n",
    "    delta_time_list = list()\n",
    "    for dt in data_time['delta_time']:\n",
    "        delta_time_list = np.append(delta_time_list, dt)\n",
    "    return delta_time_list\n",
    "features_per_season['delta_time_politeness'] = get_politeness_season(features_per_season)\n",
    "\n",
    "# Consider just betrayer data\n",
    "input_features = features_per_season[features_per_season['role'] == 'betrayer'].set_index(['idx', 'season']).join(delta_politeness_role.set_index(['idx', 'season'])).reset_index()\n",
    "\n",
    "X = input_features[['sentiment_positive', 'sentiment_neutral', 'sentiment_negative',  'n_requests', 'n_words', 'politeness', 'n_sentences', 'delta_role_politeness', 'delta_time_politeness', 'friendship_length']]\n",
    "Y = (input_features['season_before_betrayal'] == 1.0).values.astype('float32')\n",
    "X.head()"
   ]
  },
  {
   "cell_type": "markdown",
   "metadata": {},
   "source": [
    "### How we bootstrap model predictions"
   ]
  },
  {
   "cell_type": "markdown",
   "metadata": {},
   "source": [
    "We use this method to assess performance on all the models that we train."
   ]
  },
  {
   "cell_type": "code",
   "execution_count": 8,
   "metadata": {},
   "outputs": [],
   "source": [
    "from scipy.stats import sem\n",
    "\n",
    "def bootstrap_model_prediction(train_and_predict_fn, n_iterations, stratify, model_name):\n",
    "    \"\"\"Use to run the model for a number of iterations and get bootstrapped results.\"\"\"\n",
    "\n",
    "    print('Training model {}..'.format(model_name))\n",
    "\n",
    "    f1_scores = []\n",
    "    mmc_scores = []\n",
    "    for i in range(n_iterations):\n",
    "\n",
    "        # Split data before resampling\n",
    "        x_train, x_test, y_train, y_test = train_test_split(X, Y, test_size=0.10, random_state=42, shuffle=True)\n",
    "\n",
    "        # Resample train and test data, stratifying on y (resulting in equal number of 0 and 1 labels)\n",
    "        if stratify:\n",
    "            x_train, y_train = resample(x_train, y_train, replace=True, stratify=y_train)\n",
    "        else:\n",
    "            x_train, y_train = resample(x_train, y_train, replace=True)\n",
    "\n",
    "        x_test, y_test = resample(x_test, y_test, replace=True)\n",
    "\n",
    "        scores = train_and_predict_fn(x_train, x_test, y_train, y_test)\n",
    "\n",
    "        # We store the f1 and mmc scores only to compare to authors' baseline\n",
    "        f1_scores.append(scores['f1'])\n",
    "        mmc_scores.append(scores['mmc'])\n",
    "    f1_score_low, f1_score_upper = confidence_interval(0.95, f1_scores)\n",
    "    mmc_score_low, mmc_score_upper = confidence_interval(0.95, np.nan_to_num(mmc_scores))\n",
    "\n",
    "    f1_avg_score, f1_avg_score_err = np.mean(f1_scores), sem(f1_scores)\n",
    "    mmc_avg_score, mmc_avg_score_err = np.mean(mmc_scores), sem(mmc_scores)\n",
    "\n",
    "    print('Average F1-Score: %.3f' % f1_avg_score)\n",
    "    print('Average MMC-Score: %.3f' % mmc_avg_score)\n",
    "    print('F1-Score: 95%% confidence interval %.3f and %.3f' % (f1_score_low, f1_score_upper))\n",
    "    print('Matthews Corr Coef: 95%% confidence interval %.3f and %.3f' % (mmc_score_low, mmc_score_upper))\n",
    "\n",
    "    return [f1_avg_score, f1_avg_score_err], [mmc_avg_score, mmc_avg_score_err]"
   ]
  },
  {
   "cell_type": "code",
   "execution_count": 9,
   "metadata": {},
   "outputs": [],
   "source": [
    "all_models_f1_scores = []\n",
    "all_models_mmc_scores = []\n",
    "all_models_names = []\n",
    "\n",
    "def add_results(f1_out, mmc_out, name):\n",
    "    all_models_f1_scores.append(f1_out)\n",
    "    all_models_mmc_scores.append(mmc_out)\n",
    "    all_models_names.append(name)"
   ]
  },
  {
   "cell_type": "markdown",
   "metadata": {},
   "source": [
    "### Logistic Regression"
   ]
  },
  {
   "cell_type": "code",
   "execution_count": 10,
   "metadata": {},
   "outputs": [
    {
     "name": "stdout",
     "output_type": "stream",
     "text": [
      "Training model Logistic Regression (Nor)..\n",
      "Average F1-Score: 0.460\n",
      "Average MMC-Score: 0.298\n",
      "F1-Score: 95% confidence interval 0.192 and 0.722\n",
      "Matthews Corr Coef: 95% confidence interval -0.003 and 0.602\n",
      "\n",
      "Training model Logistic Regression (Nor)..\n",
      "Average F1-Score: 0.532\n",
      "Average MMC-Score: 0.351\n",
      "F1-Score: 95% confidence interval 0.375 and 0.740\n",
      "Matthews Corr Coef: 95% confidence interval 0.118 and 0.632\n"
     ]
    }
   ],
   "source": [
    "# How we select these features is explained below \n",
    "X = input_features[ ['sentiment_positive', 'sentiment_negative', 'n_requests', 'friendship_length']]\n",
    "\n",
    "def train_and_predict_logistic_regressionl_normalized(x_train, x_test, y_train, y_test):\n",
    "    scaler = StandardScaler()\n",
    "    x_train = scaler.fit_transform(x_train)\n",
    "    x_test = scaler.transform(x_test)\n",
    "    \n",
    "    clf = LogisticRegression(random_state=0, class_weight=get_class_weights(Y)).fit(x_train, y_train)                                       \n",
    "    y_pred = clf.predict(x_test)\n",
    "    return evaluate_model(y_test, y_pred)\n",
    "\n",
    "# Without stratifying\n",
    "f1_output, mmc_output = bootstrap_model_prediction(train_and_predict_logistic_regressionl_normalized, 20, stratify=False, model_name=\"Logistic Regression (Nor)\")\n",
    "\n",
    "print(\"\")\n",
    "# With stratify\n",
    "f1_output, mmc_output = bootstrap_model_prediction(train_and_predict_logistic_regressionl_normalized, 20, stratify=True, model_name=\"Logistic Regression (Nor)\")\n",
    "add_results(f1_output, mmc_output, \"Logistic Regression\")"
   ]
  },
  {
   "cell_type": "markdown",
   "metadata": {},
   "source": [
    "### How we discovered the length of friendship matters"
   ]
  },
  {
   "cell_type": "markdown",
   "metadata": {},
   "source": [
    "We look first to see whether different combinations of features can help to better predict our outcome."
   ]
  },
  {
   "cell_type": "code",
   "execution_count": 11,
   "metadata": {},
   "outputs": [
    {
     "data": {
      "image/png": "[encoded data removed]",
      "text/plain": [
       "<Figure size 432x288 with 1 Axes>"
      ]
     },
     "metadata": {
      "needs_background": "light"
     },
     "output_type": "display_data"
    }
   ],
   "source": [
    "def log_reg_pipeline(features, print_=True):\n",
    "    x_features = X[features].values\n",
    "    x_train, x_test, y_train, y_test = train_test_split(x_features, Y, test_size=0.10, random_state=42)\n",
    "    result = train_and_predict_logistic_regressionl_normalized( x_train, x_test, y_train, y_test)\n",
    "    if print_:\n",
    "        print(\"score on the test set : {}\".format(result['f1']))\n",
    "    return result['f1']\n",
    "\n",
    "features_test = [\n",
    "            ['politeness'],\n",
    "            ['n_words', 'politeness', 'delta_role_politeness', 'delta_time_politeness'],\n",
    "            ['n_words', 'politeness'],\n",
    "            ['n_requests', 'n_words', 'politeness'],\n",
    "            ['sentiment_positive', 'n_requests', 'n_words', 'politeness'],\n",
    "            ['sentiment_positive', 'sentiment_neutral', 'n_requests', 'n_words', 'politeness'],\n",
    "            ['sentiment_positive', 'sentiment_neutral', 'sentiment_negative', 'n_requests', 'n_words', 'politeness'],\n",
    "            ['sentiment_positive', 'sentiment_neutral', 'sentiment_negative', 'n_requests', 'n_words', 'politeness', 'friendship_length'],\n",
    "]\n",
    "\n",
    "scores = []\n",
    "\n",
    "for feature in features_test:\n",
    "    score_nor = log_reg_pipeline(feature, False)\n",
    "    scores.append(score_nor)\n",
    "    \n",
    "_ = plt.plot(np.arange(len(scores)), scores)\n",
    "_ = plt.legend('F1 Score')"
   ]
  },
  {
   "cell_type": "markdown",
   "metadata": {},
   "source": [
    "There is an evidence that including the friendship length can help for making the right decision ! Let's do a greedy search to cover as much possibilities as we can."
   ]
  },
  {
   "cell_type": "code",
   "execution_count": 12,
   "metadata": {},
   "outputs": [],
   "source": [
    "features_all = ['sentiment_positive', 'sentiment_neutral', 'sentiment_negative',  'n_words', 'politeness', 'n_requests', 'friendship_length', 'delta_time_politeness', 'delta_role_politeness']"
   ]
  },
  {
   "cell_type": "code",
   "execution_count": 13,
   "metadata": {},
   "outputs": [],
   "source": [
    "from itertools import combinations\n",
    "\n",
    "def greedy_search(X, features_all):\n",
    "    list_features = []\n",
    "    for i in range(len(features_all)):\n",
    "        list_features += list(combinations(features_all, i+1))\n",
    "    max_f1 = 0\n",
    "    best_comb = \"\"\n",
    "    for feat in list_features:\n",
    "        features = [t for t in feat]\n",
    "        x_features = X[features].values\n",
    "        x_train, x_test, y_train, y_test = train_test_split(x_features, Y, test_size=0.10, shuffle=True, stratify=Y, random_state=42)\n",
    "        result = train_and_predict_logistic_regressionl_normalized( x_train, x_test, y_train, y_test)\n",
    "        if result[\"f1\"] > max_f1:\n",
    "            max_f1 = result[\"f1\"]\n",
    "            best_comb = features\n",
    "    return max_f1, best_comb"
   ]
  },
  {
   "cell_type": "code",
   "execution_count": 14,
   "metadata": {},
   "outputs": [
    {
     "name": "stdout",
     "output_type": "stream",
     "text": [
      "Best score : 0.579 achieved with : ['sentiment_positive', 'sentiment_negative', 'n_requests', 'friendship_length']\n"
     ]
    }
   ],
   "source": [
    "max_f1, best_comb = greedy_search(X, features_all)\n",
    "print(\"Best score : {} achieved with : {}\".format(max_f1, best_comb))"
   ]
  },
  {
   "cell_type": "markdown",
   "metadata": {},
   "source": [
    "### Decision Trees"
   ]
  },
  {
   "cell_type": "markdown",
   "metadata": {},
   "source": [
    "#### Random Forest"
   ]
  },
  {
   "cell_type": "markdown",
   "metadata": {},
   "source": [
    "We hypothesized that the lack of data can prevent the usefulness of deep trees and we considered that using a small depth (4) and a big number of estimators (1000) could perform better, thus getting the best model"
   ]
  },
  {
   "cell_type": "code",
   "execution_count": 15,
   "metadata": {},
   "outputs": [
    {
     "name": "stdout",
     "output_type": "stream",
     "text": [
      "Training model Random Forest..\n",
      "Average F1-Score: 0.347\n",
      "Average MMC-Score: 0.282\n",
      "F1-Score: 95% confidence interval 0.114 and 0.530\n",
      "Matthews Corr Coef: 95% confidence interval 0.018 and 0.421\n",
      "\n",
      "Training model Random Forest..\n",
      "Average F1-Score: 0.589\n",
      "Average MMC-Score: 0.504\n",
      "F1-Score: 95% confidence interval 0.359 and 0.749\n",
      "Matthews Corr Coef: 95% confidence interval 0.226 and 0.708\n"
     ]
    }
   ],
   "source": [
    "from sklearn.ensemble import RandomForestClassifier\n",
    "\n",
    "X = input_features[features]\n",
    "Y = (input_features['season_before_betrayal'] == 1.0).values.astype(np.int)\n",
    "\n",
    "def train_and_predict_random_forest(x_train, x_test, y_train, y_test):\n",
    "    # Standardize data\n",
    "    scaler = StandardScaler()\n",
    "    x_train = scaler.fit_transform(x_train)\n",
    "    x_test = scaler.transform(x_test)\n",
    "    \n",
    "    # Train model\n",
    "    clf = RandomForestClassifier(\n",
    "        n_estimators=1000, \n",
    "        max_depth=4, \n",
    "        class_weight=get_class_weights(Y))\n",
    "        \n",
    "    # Predict\n",
    "    clf.fit(x_train, y_train)\n",
    "\n",
    "    # Evaluate\n",
    "    y_pred = clf.predict(x_test)\n",
    "    return evaluate_model(y_test, y_pred)\n",
    "\n",
    "# Without\n",
    "f1_output, mmc_output = bootstrap_model_prediction(train_and_predict_random_forest, 20, stratify=False, model_name=\"Random Forest\")\n",
    "\n",
    "print(\"\")\n",
    "# With stratify\n",
    "f1_output, mmc_output = bootstrap_model_prediction(train_and_predict_random_forest, 20, stratify=True, model_name=\"Random Forest\")\n",
    "# add_results(f1_output, mmc_output, \"Random Forest\")"
   ]
  },
  {
   "cell_type": "code",
   "execution_count": 16,
   "metadata": {},
   "outputs": [
    {
     "data": {
      "text/plain": [
       "{'acc': 0.836,\n",
       " 'f1': 0.593,\n",
       " 'fn': 7,\n",
       " 'fp': 4,\n",
       " 'mmc': 0.49617,\n",
       " 'precision': 0.667,\n",
       " 'recall': 0.533,\n",
       " 'tn': 48,\n",
       " 'tp': 8}"
      ]
     },
     "execution_count": 16,
     "metadata": {},
     "output_type": "execute_result"
    },
    {
     "data": {
      "image/png": "[encoded data removed]",
      "text/plain": [
       "<Figure size 432x288 with 1 Axes>"
      ]
     },
     "metadata": {
      "needs_background": "light"
     },
     "output_type": "display_data"
    }
   ],
   "source": [
    "def train_rf_and_plot_importance(x_train, x_test, y_train, y_test ):\n",
    "    # Standardize data\n",
    "    scaler = StandardScaler()\n",
    "    x_train = scaler.fit_transform(x_train)\n",
    "    x_test = scaler.transform(x_test)\n",
    "\n",
    "    # Train model\n",
    "    clf = RandomForestClassifier(n_estimators=1000, max_depth=4, class_weight=get_class_weights(Y))\n",
    "    clf.fit(x_train, y_train)\n",
    "\n",
    "    importances = np.array(clf.feature_importances_)\n",
    "    indices = np.argsort(importances)\n",
    "    \n",
    "    # Plot\n",
    "    plt.figure(1)\n",
    "    plt.title('Feature Importances')\n",
    "    plt.barh(range(len(indices)), importances[indices], color='b', align='center')\n",
    "    plt.yticks(range(len(indices)), np.array(features)[indices])\n",
    "    plt.xlabel('Relative Importance')\n",
    "\n",
    "x_train, x_test, y_train, y_test = train_test_split(X, Y, test_size=0.10, random_state=42)\n",
    "train_rf_and_plot_importance(x_train, x_test, y_train, y_test)\n",
    "train_and_predict_random_forest(x_train, x_test, y_train, y_test)"
   ]
  },
  {
   "cell_type": "markdown",
   "metadata": {},
   "source": [
    "#### XGBoost"
   ]
  },
  {
   "cell_type": "code",
   "execution_count": 17,
   "metadata": {},
   "outputs": [
    {
     "name": "stdout",
     "output_type": "stream",
     "text": [
      "Training model XGBoost..\n",
      "Average F1-Score: 0.395\n",
      "Average MMC-Score: 0.351\n",
      "F1-Score: 95% confidence interval 0.301 and 0.530\n",
      "Matthews Corr Coef: 95% confidence interval 0.192 and 0.506\n",
      "\n",
      "Training model XGBoost..\n",
      "Average F1-Score: 0.445\n",
      "Average MMC-Score: 0.368\n",
      "F1-Score: 95% confidence interval 0.216 and 0.625\n",
      "Matthews Corr Coef: 95% confidence interval 0.163 and 0.569\n"
     ]
    }
   ],
   "source": [
    "import xgboost\n",
    "\n",
    "def train_and_predict_xgboost(x_train, x_test, y_train, y_test):\n",
    "    # Standardize data\n",
    "    scaler = StandardScaler()\n",
    "    x_train = scaler.fit_transform(x_train)\n",
    "    x_test = scaler.transform(x_test)\n",
    "    \n",
    "    # Compute imbalance ratio\n",
    "    ratio = float(np.sum(Y == 0)) / np.sum(Y == 1)\n",
    "    \n",
    "    # Train model\n",
    "    clf = xgboost.XGBClassifier(n_jobs=-1, scale_pos_weight=ratio, n_estimators=300, max_depth=100)\n",
    "    clf.fit(x_train, y_train)\n",
    "\n",
    "    # Evaluate\n",
    "    y_pred = clf.predict(x_test)\n",
    "    return evaluate_model(y_test, y_pred)\n",
    "\n",
    "# Without\n",
    "f1_output, mmc_output = bootstrap_model_prediction(train_and_predict_xgboost, 20, stratify=False, model_name=\"XGBoost\")\n",
    "\n",
    "print(\"\")\n",
    "# With stratify\n",
    "f1_output, mmc_output = bootstrap_model_prediction(train_and_predict_xgboost, 20, stratify=True, model_name=\"XGBoost\")\n",
    "# add_results(f1_output, mmc_output, \"XGBoost\")"
   ]
  },
  {
   "cell_type": "markdown",
   "metadata": {},
   "source": [
    "### Feed Forward Neural Network"
   ]
  },
  {
   "cell_type": "code",
   "execution_count": 18,
   "metadata": {},
   "outputs": [
    {
     "name": "stdout",
     "output_type": "stream",
     "text": [
      "Model: \"sequential\"\n",
      "_________________________________________________________________\n",
      "Layer (type)                 Output Shape              Param #   \n",
      "=================================================================\n",
      "dense (Dense)                (None, 512)               4608      \n",
      "_________________________________________________________________\n",
      "dense_1 (Dense)              (None, 256)               131328    \n",
      "_________________________________________________________________\n",
      "dropout (Dropout)            (None, 256)               0         \n",
      "_________________________________________________________________\n",
      "dense_2 (Dense)              (None, 1)                 257       \n",
      "=================================================================\n",
      "Total params: 136,193\n",
      "Trainable params: 136,193\n",
      "Non-trainable params: 0\n",
      "_________________________________________________________________\n"
     ]
    }
   ],
   "source": [
    "from utils.models import get_feed_forward_model, local_seed\n",
    "\n",
    "BATCH_SIZE = 64\n",
    "EPOCHS = 10\n",
    "FEATURES_NUM = X.shape[-1]\n",
    "\n",
    "model = get_feed_forward_model(FEATURES_NUM)\n",
    "model.summary()"
   ]
  },
  {
   "cell_type": "code",
   "execution_count": 19,
   "metadata": {},
   "outputs": [
    {
     "name": "stdout",
     "output_type": "stream",
     "text": [
      "{'f1': 0.371, 'mmc': 0.093066, 'acc': 66.767, 'precision': 0.233, 'recall': 0.496, 'tp': 2046, 'fp': 6732, 'tn': 6834, 'fn': 2077}\n",
      "Training model Feedforward..\n",
      "Average F1-Score: 0.512\n",
      "Average MMC-Score: 0.360\n",
      "F1-Score: 95% confidence interval 0.348 and 0.658\n",
      "Matthews Corr Coef: 95% confidence interval 0.185 and 0.540\n"
     ]
    }
   ],
   "source": [
    "def train_and_predict_feed_forward_model(x_train, x_test, y_train, y_test):\n",
    "    # Standardize\n",
    "    scaler = StandardScaler()\n",
    "    x_train = scaler.fit_transform(x_train)\n",
    "    x_test = scaler.transform(x_test)\n",
    "    \n",
    "    # Use to prevent overfitting by stopping training when validation loss decreases\n",
    "    es = tf.keras.callbacks.EarlyStopping(monitor='val_loss', mode='min', verbose=0, patience=3)\n",
    "\n",
    "    # Compute the class weights to address the imabalance\n",
    "    class_weights = get_class_weights(Y)\n",
    "    with local_seed(10):\n",
    "        model = get_feed_forward_model(X.shape[-1])\n",
    "        result = model.fit(\n",
    "            x_train, \n",
    "            y_train, \n",
    "            batch_size = BATCH_SIZE, \n",
    "            epochs=10,\n",
    "            callbacks=[es],\n",
    "            validation_data=(x_test, y_test),\n",
    "            class_weight=class_weights, verbose=0)\n",
    "\n",
    "    # Predict & evaluate\n",
    "    y_pred = model.predict_step(x_test).numpy()\n",
    "    y_pred_bool = y_pred > 0.5\n",
    "    return evaluate_model(y_test, y_pred_bool)\n",
    "\n",
    "x_train, x_test, y_train, y_test = train_test_split(X, Y, random_state = 10, test_size=0.2)\n",
    "print(train_and_predict_feed_forward_model(x_train, x_test, y_train, y_test))\n",
    "\n",
    "f1_output, mmc_output = bootstrap_model_prediction(train_and_predict_feed_forward_model, 20, stratify=True, model_name=\"Feedforward\")\n",
    "add_results(f1_output, mmc_output, \"Feed Forward NN\")"
   ]
  },
  {
   "cell_type": "markdown",
   "metadata": {},
   "source": [
    "# Plot model results"
   ]
  },
  {
   "cell_type": "code",
   "execution_count": 20,
   "metadata": {},
   "outputs": [],
   "source": [
    "# Ading authors baseline, but considering the sem to be 0 \n",
    "# since we do not have this information\n",
    "\n",
    "all_models_f1_scores.append([0.31, 0])\n",
    "all_models_mmc_scores.append([0.15, 0])\n",
    "all_models_names.append('Authors baseline')\n",
    "\n",
    "f1_scores  = np.array(all_models_f1_scores)\n",
    "mmc_scores = np.array(all_models_mmc_scores)"
   ]
  },
  {
   "cell_type": "code",
   "execution_count": 21,
   "metadata": {},
   "outputs": [
    {
     "data": {
      "image/png": "[encoded data removed]",
      "text/plain": [
       "<Figure size 432x288 with 1 Axes>"
      ]
     },
     "metadata": {
      "needs_background": "light"
     },
     "output_type": "display_data"
    },
    {
     "data": {
      "image/png": "[encoded data removed]",
      "text/plain": [
       "<Figure size 432x288 with 1 Axes>"
      ]
     },
     "metadata": {
      "needs_background": "light"
     },
     "output_type": "display_data"
    }
   ],
   "source": [
    "plt.barh(all_models_names, f1_scores[:, 0], xerr=f1_scores[:,1], capsize=4)\n",
    "plt.title(\"Score\")\n",
    "plt.xlabel(\"f1\".capitalize())\n",
    "plt.ylabel(\"Model\")\n",
    "plt.show()\n",
    "\n",
    "plt.barh(all_models_names, mmc_scores[:, 0], xerr=mmc_scores[:,1], capsize=4)\n",
    "plt.title(\"Score\")\n",
    "plt.xlabel(\"mmc\".capitalize())\n",
    "plt.ylabel(\"Model\")\n",
    "plt.show()"
   ]
  },
  {
   "cell_type": "markdown",
   "metadata": {},
   "source": [
    "# Explore more models using word embeddings"
   ]
  },
  {
   "cell_type": "code",
   "execution_count": 22,
   "metadata": {},
   "outputs": [],
   "source": [
    "%%capture\n",
    "!pip install nltk\n",
    "import nltk\n",
    "nltk.download('stopwords')\n",
    "nltk.download('punkt')"
   ]
  },
  {
   "cell_type": "markdown",
   "metadata": {},
   "source": [
    "### Get the new inputs: words embeddings"
   ]
  },
  {
   "cell_type": "code",
   "execution_count": 23,
   "metadata": {},
   "outputs": [
    {
     "data": {
      "text/html": [
       "<div>\n",
       "<style scoped>\n",
       "    .dataframe tbody tr th:only-of-type {\n",
       "        vertical-align: middle;\n",
       "    }\n",
       "\n",
       "    .dataframe tbody tr th {\n",
       "        vertical-align: top;\n",
       "    }\n",
       "\n",
       "    .dataframe thead th {\n",
       "        text-align: right;\n",
       "    }\n",
       "</style>\n",
       "<table border=\"1\" class=\"dataframe\">\n",
       "  <thead>\n",
       "    <tr style=\"text-align: right;\">\n",
       "      <th></th>\n",
       "      <th>idx</th>\n",
       "      <th>season</th>\n",
       "      <th>role</th>\n",
       "      <th>sentiment_positive</th>\n",
       "      <th>sentiment_neutral</th>\n",
       "      <th>sentiment_negative</th>\n",
       "      <th>n_requests</th>\n",
       "      <th>n_words</th>\n",
       "      <th>n_disc_words</th>\n",
       "      <th>politeness</th>\n",
       "      <th>n_sentences</th>\n",
       "      <th>friendship_length</th>\n",
       "      <th>season_before_betrayal</th>\n",
       "      <th>all_words</th>\n",
       "      <th>delta_time_politeness</th>\n",
       "      <th>delta_role_politeness</th>\n",
       "    </tr>\n",
       "  </thead>\n",
       "  <tbody>\n",
       "    <tr>\n",
       "      <th>0</th>\n",
       "      <td>0</td>\n",
       "      <td>1906.5</td>\n",
       "      <td>betrayer</td>\n",
       "      <td>1.333333</td>\n",
       "      <td>1.333333</td>\n",
       "      <td>1.500000</td>\n",
       "      <td>3.666667</td>\n",
       "      <td>489</td>\n",
       "      <td>120</td>\n",
       "      <td>0.803328</td>\n",
       "      <td>25</td>\n",
       "      <td>3.0</td>\n",
       "      <td>6.0</td>\n",
       "      <td>[sure, retreat, and, something, enemy, decide,...</td>\n",
       "      <td>0.000000</td>\n",
       "      <td>-0.006665</td>\n",
       "    </tr>\n",
       "    <tr>\n",
       "      <th>1</th>\n",
       "      <td>0</td>\n",
       "      <td>1907.0</td>\n",
       "      <td>betrayer</td>\n",
       "      <td>0.142857</td>\n",
       "      <td>0.857143</td>\n",
       "      <td>1.285714</td>\n",
       "      <td>1.285714</td>\n",
       "      <td>280</td>\n",
       "      <td>46</td>\n",
       "      <td>0.560083</td>\n",
       "      <td>16</td>\n",
       "      <td>3.0</td>\n",
       "      <td>5.0</td>\n",
       "      <td>[the, a, are, game, france, new, ?, or, all, ,...</td>\n",
       "      <td>-0.249910</td>\n",
       "      <td>-0.225425</td>\n",
       "    </tr>\n",
       "    <tr>\n",
       "      <th>2</th>\n",
       "      <td>0</td>\n",
       "      <td>1907.5</td>\n",
       "      <td>betrayer</td>\n",
       "      <td>2.000000</td>\n",
       "      <td>2.500000</td>\n",
       "      <td>2.000000</td>\n",
       "      <td>5.500000</td>\n",
       "      <td>333</td>\n",
       "      <td>87</td>\n",
       "      <td>0.982703</td>\n",
       "      <td>13</td>\n",
       "      <td>3.0</td>\n",
       "      <td>4.0</td>\n",
       "      <td>[and, will, stp, tus, advance, shall, next, ma...</td>\n",
       "      <td>0.197195</td>\n",
       "      <td>0.375372</td>\n",
       "    </tr>\n",
       "    <tr>\n",
       "      <th>3</th>\n",
       "      <td>0</td>\n",
       "      <td>1908.0</td>\n",
       "      <td>betrayer</td>\n",
       "      <td>1.800000</td>\n",
       "      <td>0.800000</td>\n",
       "      <td>2.200000</td>\n",
       "      <td>3.200000</td>\n",
       "      <td>449</td>\n",
       "      <td>117</td>\n",
       "      <td>0.748802</td>\n",
       "      <td>24</td>\n",
       "      <td>3.0</td>\n",
       "      <td>3.0</td>\n",
       "      <td>[a, hope, turkey, figure, out, ., for, they, s...</td>\n",
       "      <td>0.141471</td>\n",
       "      <td>0.177667</td>\n",
       "    </tr>\n",
       "    <tr>\n",
       "      <th>4</th>\n",
       "      <td>0</td>\n",
       "      <td>1908.5</td>\n",
       "      <td>betrayer</td>\n",
       "      <td>1.000000</td>\n",
       "      <td>1.000000</td>\n",
       "      <td>1.000000</td>\n",
       "      <td>2.000000</td>\n",
       "      <td>78</td>\n",
       "      <td>24</td>\n",
       "      <td>0.899161</td>\n",
       "      <td>6</td>\n",
       "      <td>3.0</td>\n",
       "      <td>2.0</td>\n",
       "      <td>[a, but, ?, suggestions, little, hello, ,, am,...</td>\n",
       "      <td>0.328027</td>\n",
       "      <td>0.335738</td>\n",
       "    </tr>\n",
       "  </tbody>\n",
       "</table>\n",
       "</div>"
      ],
      "text/plain": [
       "   idx  season      role  sentiment_positive  sentiment_neutral  \\\n",
       "0    0  1906.5  betrayer            1.333333           1.333333   \n",
       "1    0  1907.0  betrayer            0.142857           0.857143   \n",
       "2    0  1907.5  betrayer            2.000000           2.500000   \n",
       "3    0  1908.0  betrayer            1.800000           0.800000   \n",
       "4    0  1908.5  betrayer            1.000000           1.000000   \n",
       "\n",
       "   sentiment_negative  n_requests  n_words  n_disc_words  politeness  \\\n",
       "0            1.500000    3.666667      489           120    0.803328   \n",
       "1            1.285714    1.285714      280            46    0.560083   \n",
       "2            2.000000    5.500000      333            87    0.982703   \n",
       "3            2.200000    3.200000      449           117    0.748802   \n",
       "4            1.000000    2.000000       78            24    0.899161   \n",
       "\n",
       "   n_sentences  friendship_length  season_before_betrayal  \\\n",
       "0           25                3.0                     6.0   \n",
       "1           16                3.0                     5.0   \n",
       "2           13                3.0                     4.0   \n",
       "3           24                3.0                     3.0   \n",
       "4            6                3.0                     2.0   \n",
       "\n",
       "                                           all_words  delta_time_politeness  \\\n",
       "0  [sure, retreat, and, something, enemy, decide,...               0.000000   \n",
       "1  [the, a, are, game, france, new, ?, or, all, ,...              -0.249910   \n",
       "2  [and, will, stp, tus, advance, shall, next, ma...               0.197195   \n",
       "3  [a, hope, turkey, figure, out, ., for, they, s...               0.141471   \n",
       "4  [a, but, ?, suggestions, little, hello, ,, am,...               0.328027   \n",
       "\n",
       "   delta_role_politeness  \n",
       "0              -0.006665  \n",
       "1              -0.225425  \n",
       "2               0.375372  \n",
       "3               0.177667  \n",
       "4               0.335738  "
      ]
     },
     "execution_count": 23,
     "metadata": {},
     "output_type": "execute_result"
    }
   ],
   "source": [
    "features_data = df.copy()\n",
    "\n",
    "# Consider only the betrayals relationships\n",
    "features_data = features_data[features_data['betrayal'] == True]\n",
    "features_data = features_data.drop(columns=[ 'season_betrayal', 'betrayal'])\n",
    "\n",
    "aggreagted_features_per_season = features_data.groupby(['idx', 'season', 'role'], as_index=True).aggregate({\n",
    "    'sentiment_positive': 'mean',\n",
    "    'sentiment_neutral': 'mean',\n",
    "    'sentiment_negative': 'mean',\n",
    "    'n_requests': 'mean',\n",
    "    'n_words': 'sum',\n",
    "    'n_disc_words': 'sum',\n",
    "    'politeness': 'mean',\n",
    "    'n_sentences': 'sum',\n",
    "    'friendship_length': 'min', # Same\n",
    "    'season_before_betrayal': 'min', # Same\n",
    "     'all_words': 'sum' # Adding all words in a season\n",
    "})\n",
    "\n",
    "features_per_season = aggreagted_features_per_season.reset_index()\n",
    "\n",
    "# Add difference politeness deltas\n",
    "delta_politeness_role = features_per_season.groupby(by=['idx', 'season']).apply(lambda x: pd.Series(delta_politeness(x))).reset_index()\n",
    "features_per_season['delta_time_politeness'] = get_politeness_season(features_per_season)\n",
    "\n",
    "# Consider just betrayer data\n",
    "input_features = features_per_season[features_per_season['role'] == 'betrayer'].set_index(['idx', 'season']).join(delta_politeness_role.set_index(['idx', 'season'])).reset_index()\n",
    "\n",
    "X = input_features\n",
    "Y = (input_features['season_before_betrayal'] == 1.0).values.astype('float32')\n",
    "X.head()"
   ]
  },
  {
   "cell_type": "code",
   "execution_count": 24,
   "metadata": {},
   "outputs": [
    {
     "name": "stdout",
     "output_type": "stream",
     "text": [
      "Before cleaning:\n",
      "['the', 'missed', 'a', 'others', 'and', 'are', 'making', \"can't\", 'bur', 'us', 'supply', 'happy', 'which', 'just', ',', \"i'll\", 'would', \"i'm\", '.', 'nth', 'fine', 'dmz', 'mun', 'offensive', 'key', 'swe', 'though', 'centers', \"it's\", 'that', 'back', 'your', 'from', 'its', 'make', 'on', 'territories', 'not', 'in', 'ruh', '2', 'planning', 'be', 'stabbing', 'both', 'spring', 'i', 'to', \"'\", '&']\n",
      "\n",
      "After cleaning\n",
      "['missed', 'others', 'making', 'supply', 'happy', 'would', 'fine', 'offensive', 'though', 'centers', 'back', 'make', 'territories', 'planning', 'stabbing', 'spring', 'part', 'away', 'austria', 'apologies', 'means', 'fleets', 'email', 'assure', 'move']\n"
     ]
    }
   ],
   "source": [
    "from utils.text_preprocessing_utils import clean_words\n",
    "\n",
    "# Words combined look like this\n",
    "print('Before cleaning:')\n",
    "print(X['all_words'][70][:50])\n",
    "print(\"\")\n",
    "\n",
    "# We notice multiple stop words need to be removed, as well as contractions and very short, non-understanble words under3 characters\n",
    "X['all_words'] = X['all_words'].map(clean_words)\n",
    "\n",
    "print('After cleaning')\n",
    "print(X['all_words'][70][:50])"
   ]
  },
  {
   "cell_type": "code",
   "execution_count": 25,
   "metadata": {},
   "outputs": [
    {
     "name": "stdout",
     "output_type": "stream",
     "text": [
      "Max number of words per season 762\n",
      "Mean number of words per season 65.10859728506787\n",
      "Min number of words per season 0\n",
      "Number of unique words are 1992\n"
     ]
    },
    {
     "data": {
      "image/png": "[encoded data removed]",
      "text/plain": [
       "<Figure size 432x288 with 1 Axes>"
      ]
     },
     "metadata": {
      "needs_background": "light"
     },
     "output_type": "display_data"
    }
   ],
   "source": [
    "total_words_per_season = [len(X['all_words'][i]) for i in range(X.shape[0])]\n",
    "print('Max number of words per season', np.max(total_words_per_season))\n",
    "print('Mean number of words per season', np.mean(total_words_per_season))\n",
    "print('Min number of words per season', np.min(total_words_per_season))\n",
    "from utils.text_preprocessing_utils import read_glove_embeddings\n",
    "all_words = []\n",
    "for idx in range(X.shape[0]):\n",
    "    all_words = all_words + X['all_words'][idx]\n",
    "print('Number of unique words are', len(set(all_words)))\n",
    "\n",
    "plt.plot(total_words_per_season)\n",
    "plt.show()\n",
    "\n",
    "# Based on the following, we decide to pad/truncate to max 200 words and use an embedding matrix of 2140 words."
   ]
  },
  {
   "cell_type": "code",
   "execution_count": 26,
   "metadata": {},
   "outputs": [
    {
     "name": "stdout",
     "output_type": "stream",
     "text": [
      "Embeddings containing 1193514 word vectors.\n"
     ]
    }
   ],
   "source": [
    "from utils.text_preprocessing_utils import read_glove_embeddings, compute_relevant_embedding_matrix\n",
    "\n",
    "EMBEDDING_DIM = 25\n",
    "MAX_WORDS = 2147\n",
    "MAX_LEN = 200\n",
    "\n",
    "# Load the embeddings from Glove lowest dimensional trained embeddings\n",
    "embeddings = read_glove_embeddings('../glove.twitter.27B.25d.txt')\n",
    "\n",
    "# Get the matrix fo embeddings and mapping of words to rows in the embeddings matrix\n",
    "embedding_matrix, map_word_to_idx = compute_relevant_embedding_matrix(embeddings, all_words, MAX_WORDS,  EMBEDDING_DIM)\n",
    "\n",
    "def convert_word_to_id(words):\n",
    "    return [map_word_to_idx[w] for w in words if w in map_word_to_idx]\n",
    "\n",
    "# Convert the words to their idx in the matrix\n",
    "X['all_words'] = X['all_words'].map(convert_word_to_id)"
   ]
  },
  {
   "cell_type": "markdown",
   "metadata": {},
   "source": [
    "## Fusion model between numerical and embeddings"
   ]
  },
  {
   "cell_type": "code",
   "execution_count": 27,
   "metadata": {},
   "outputs": [
    {
     "name": "stdout",
     "output_type": "stream",
     "text": [
      "Embeddings model\n",
      "Model: \"functional_1\"\n",
      "_________________________________________________________________\n",
      "Layer (type)                 Output Shape              Param #   \n",
      "=================================================================\n",
      "emb_input (InputLayer)       [(None, 200)]             0         \n",
      "_________________________________________________________________\n",
      "embedding (Embedding)        (None, 200, 25)           53675     \n",
      "_________________________________________________________________\n",
      "lstm (LSTM)                  (None, 64)                23040     \n",
      "=================================================================\n",
      "Total params: 76,715\n",
      "Trainable params: 23,040\n",
      "Non-trainable params: 53,675\n",
      "_________________________________________________________________\n"
     ]
    }
   ],
   "source": [
    "from utils.models import get_embedding_submodel, get_numerical_submodel, get_combined_model\n",
    "\n",
    "tf.keras.backend.clear_session()\n",
    "model_embedding = get_embedding_submodel( MAX_LEN, MAX_WORDS, EMBEDDING_DIM, embedding_matrix)\n",
    "\n",
    "# The model to contain the embeddings\n",
    "print(\"Embeddings model\")\n",
    "model_embedding.summary()"
   ]
  },
  {
   "cell_type": "code",
   "execution_count": 28,
   "metadata": {},
   "outputs": [
    {
     "name": "stdout",
     "output_type": "stream",
     "text": [
      "Numerical model\n",
      "Model: \"functional_3\"\n",
      "_________________________________________________________________\n",
      "Layer (type)                 Output Shape              Param #   \n",
      "=================================================================\n",
      "num_input (InputLayer)       [(None, 10)]              0         \n",
      "_________________________________________________________________\n",
      "num_dense (Dense)            (None, 64)                704       \n",
      "=================================================================\n",
      "Total params: 704\n",
      "Trainable params: 704\n",
      "Non-trainable params: 0\n",
      "_________________________________________________________________\n"
     ]
    }
   ],
   "source": [
    "model_numerical = get_numerical_submodel(10)\n",
    "\n",
    "# The model to contain the numerical values\n",
    "print(\"Numerical model\")\n",
    "model_numerical.summary()"
   ]
  },
  {
   "cell_type": "code",
   "execution_count": 29,
   "metadata": {},
   "outputs": [
    {
     "data": {
      "text/plain": [
       "{'acc': 76.549,\n",
       " 'f1': 0.395,\n",
       " 'fn': 2158,\n",
       " 'fp': 5350,\n",
       " 'mmc': 0.204542,\n",
       " 'precision': 0.195,\n",
       " 'recall': 0.376,\n",
       " 'tn': 8881,\n",
       " 'tp': 1300}"
      ]
     },
     "execution_count": 29,
     "metadata": {},
     "output_type": "execute_result"
    }
   ],
   "source": [
    "from utils.models import get_numerical_model_x_inputs, get_embeddings_model_x_inputs, local_seed\n",
    "\n",
    "def train_and_predict_fusion_model(x_train, x_test, y_train, y_test):\n",
    "    x_train_1, x_test_1 = get_embeddings_model_x_inputs(x_train, x_test, MAX_LEN)\n",
    "    x_train_2, x_test_2 = get_numerical_model_x_inputs(x_train, x_test)\n",
    "\n",
    "    with local_seed(10):\n",
    "        tf.keras.backend.clear_session()\n",
    "        es = tf.keras.callbacks.EarlyStopping(monitor='val_loss', mode='min', verbose=0, patience=3)\n",
    "\n",
    "        class_weights = get_class_weights(Y)\n",
    "        model = get_combined_model(model_embedding, model_numerical)\n",
    "        result = model.fit({'input_1': x_train_1, 'input_2': x_train_2},\n",
    "            y_train, \n",
    "            batch_size = 32, \n",
    "            epochs=10,\n",
    "            callbacks=[es],\n",
    "            validation_data=({'input_1': x_test_1, 'input_2': x_test_2}, y_test),\n",
    "            class_weight=class_weights, verbose=0)\n",
    "\n",
    "    y_pred = model.predict_step({'input_1': x_test_1, 'input_2': x_test_2}).numpy()\n",
    "    y_pred_bool = y_pred > 0.5\n",
    "    return evaluate_model(y_test, y_pred_bool)\n",
    "\n",
    "\n",
    "x_train, x_test, y_train, y_test = train_test_split(X, Y, random_state = 10, stratify=Y, test_size=0.2, shuffle=True)\n",
    "train_and_predict_fusion_model(x_train, x_test, y_train, y_test )\n",
    "\n",
    "# f1_output, mmc_output = bootstrap_model_prediction(train_and_predict_fusion_model, 10, stratify=True, model_name=\"Fusion model\")\n",
    "# print('Average f1', f1_output[0])\n",
    "# print('Average mmc', mmc_output[0])"
   ]
  },
  {
   "cell_type": "markdown",
   "metadata": {},
   "source": [
    "# How early can we predict betrayal?"
   ]
  },
  {
   "cell_type": "markdown",
   "metadata": {},
   "source": [
    "## Two seasons before betrayal"
   ]
  },
  {
   "cell_type": "markdown",
   "metadata": {},
   "source": [
    "Our method to see if we can predict betrayal considering a window size of two seasons:\n",
    "- we move back in time in each relationship at the point all relationships are two seasons away from betrayal\n",
    "- we label all seasons that are two seasons away of betrayal with the with the imminent outcome and the rest with 0"
   ]
  },
  {
   "cell_type": "code",
   "execution_count": 30,
   "metadata": {},
   "outputs": [],
   "source": [
    "f1_scores =[]\n",
    "mmc_scores = []"
   ]
  },
  {
   "cell_type": "code",
   "execution_count": 31,
   "metadata": {},
   "outputs": [
    {
     "data": {
      "text/html": [
       "<div>\n",
       "<style scoped>\n",
       "    .dataframe tbody tr th:only-of-type {\n",
       "        vertical-align: middle;\n",
       "    }\n",
       "\n",
       "    .dataframe tbody tr th {\n",
       "        vertical-align: top;\n",
       "    }\n",
       "\n",
       "    .dataframe thead th {\n",
       "        text-align: right;\n",
       "    }\n",
       "</style>\n",
       "<table border=\"1\" class=\"dataframe\">\n",
       "  <thead>\n",
       "    <tr style=\"text-align: right;\">\n",
       "      <th></th>\n",
       "      <th>sentiment_positive</th>\n",
       "      <th>sentiment_neutral</th>\n",
       "      <th>sentiment_negative</th>\n",
       "      <th>n_requests</th>\n",
       "      <th>n_words</th>\n",
       "      <th>n_sentences</th>\n",
       "      <th>politeness</th>\n",
       "      <th>delta_role_politeness</th>\n",
       "      <th>delta_time_politeness</th>\n",
       "      <th>friendship_length</th>\n",
       "    </tr>\n",
       "  </thead>\n",
       "  <tbody>\n",
       "    <tr>\n",
       "      <th>0</th>\n",
       "      <td>1.333333</td>\n",
       "      <td>1.333333</td>\n",
       "      <td>1.500000</td>\n",
       "      <td>3.666667</td>\n",
       "      <td>489</td>\n",
       "      <td>25</td>\n",
       "      <td>0.803328</td>\n",
       "      <td>-0.006665</td>\n",
       "      <td>0.000000</td>\n",
       "      <td>1.0</td>\n",
       "    </tr>\n",
       "    <tr>\n",
       "      <th>1</th>\n",
       "      <td>0.142857</td>\n",
       "      <td>0.857143</td>\n",
       "      <td>1.285714</td>\n",
       "      <td>1.285714</td>\n",
       "      <td>280</td>\n",
       "      <td>16</td>\n",
       "      <td>0.560083</td>\n",
       "      <td>-0.225425</td>\n",
       "      <td>-0.249910</td>\n",
       "      <td>1.0</td>\n",
       "    </tr>\n",
       "    <tr>\n",
       "      <th>2</th>\n",
       "      <td>2.000000</td>\n",
       "      <td>2.500000</td>\n",
       "      <td>2.000000</td>\n",
       "      <td>5.500000</td>\n",
       "      <td>333</td>\n",
       "      <td>13</td>\n",
       "      <td>0.982703</td>\n",
       "      <td>0.375372</td>\n",
       "      <td>0.197195</td>\n",
       "      <td>1.0</td>\n",
       "    </tr>\n",
       "    <tr>\n",
       "      <th>3</th>\n",
       "      <td>1.800000</td>\n",
       "      <td>0.800000</td>\n",
       "      <td>2.200000</td>\n",
       "      <td>3.200000</td>\n",
       "      <td>449</td>\n",
       "      <td>24</td>\n",
       "      <td>0.748802</td>\n",
       "      <td>0.177667</td>\n",
       "      <td>0.141471</td>\n",
       "      <td>1.0</td>\n",
       "    </tr>\n",
       "    <tr>\n",
       "      <th>4</th>\n",
       "      <td>1.000000</td>\n",
       "      <td>1.000000</td>\n",
       "      <td>1.000000</td>\n",
       "      <td>2.000000</td>\n",
       "      <td>78</td>\n",
       "      <td>6</td>\n",
       "      <td>0.899161</td>\n",
       "      <td>0.335738</td>\n",
       "      <td>0.328027</td>\n",
       "      <td>1.0</td>\n",
       "    </tr>\n",
       "  </tbody>\n",
       "</table>\n",
       "</div>"
      ],
      "text/plain": [
       "   sentiment_positive  sentiment_neutral  sentiment_negative  n_requests  \\\n",
       "0            1.333333           1.333333            1.500000    3.666667   \n",
       "1            0.142857           0.857143            1.285714    1.285714   \n",
       "2            2.000000           2.500000            2.000000    5.500000   \n",
       "3            1.800000           0.800000            2.200000    3.200000   \n",
       "4            1.000000           1.000000            1.000000    2.000000   \n",
       "\n",
       "   n_words  n_sentences  politeness  delta_role_politeness  \\\n",
       "0      489           25    0.803328              -0.006665   \n",
       "1      280           16    0.560083              -0.225425   \n",
       "2      333           13    0.982703               0.375372   \n",
       "3      449           24    0.748802               0.177667   \n",
       "4       78            6    0.899161               0.335738   \n",
       "\n",
       "   delta_time_politeness  friendship_length  \n",
       "0               0.000000                1.0  \n",
       "1              -0.249910                1.0  \n",
       "2               0.197195                1.0  \n",
       "3               0.141471                1.0  \n",
       "4               0.328027                1.0  "
      ]
     },
     "execution_count": 31,
     "metadata": {},
     "output_type": "execute_result"
    }
   ],
   "source": [
    "input_features_before = input_features[input_features['season_before_betrayal'] >= 2]\n",
    "\n",
    "X = input_features_before[['sentiment_positive', 'sentiment_neutral', 'sentiment_negative', 'n_requests', 'n_words', \n",
    "               'n_sentences', 'politeness', 'delta_role_politeness', 'delta_time_politeness', 'friendship_length']]\n",
    "\n",
    "# Going back in time requires updating the length of friendship\n",
    "X['friendship_length'] = X['friendship_length'] - 2\n",
    "Y = (input_features_before['season_before_betrayal'] == 2.0).values.astype('float32')\n",
    "X.head()"
   ]
  },
  {
   "cell_type": "code",
   "execution_count": 32,
   "metadata": {},
   "outputs": [
    {
     "name": "stdout",
     "output_type": "stream",
     "text": [
      "Training model ..\n",
      "Average F1-Score: 0.453\n",
      "Average MMC-Score: 0.256\n",
      "F1-Score: 95% confidence interval 0.295 and 0.648\n",
      "Matthews Corr Coef: 95% confidence interval -0.010 and 0.506\n"
     ]
    }
   ],
   "source": [
    "f1_score, mmc_score = bootstrap_model_prediction(train_and_predict_logistic_regressionl_normalized, 20, stratify=True, model_name=\"\")"
   ]
  },
  {
   "cell_type": "code",
   "execution_count": 33,
   "metadata": {},
   "outputs": [
    {
     "name": "stdout",
     "output_type": "stream",
     "text": [
      "Training model ..\n",
      "Average F1-Score: 0.542\n",
      "Average MMC-Score: 0.439\n",
      "F1-Score: 95% confidence interval 0.304 and 0.867\n",
      "Matthews Corr Coef: 95% confidence interval 0.112 and 0.840\n"
     ]
    }
   ],
   "source": [
    "bootstrap_model_prediction(train_and_predict_random_forest, 20, stratify=True, model_name=\"\")\n",
    "f1_scores.append(f1_score[0])\n",
    "mmc_scores.append(mmc_score[0])"
   ]
  },
  {
   "cell_type": "markdown",
   "metadata": {},
   "source": [
    "## Three seasons before betrayal"
   ]
  },
  {
   "cell_type": "code",
   "execution_count": 34,
   "metadata": {},
   "outputs": [
   ],
   "source": [
    "input_features_before = input_features[input_features['season_before_betrayal'] >= 3]\n",
    "\n",
    "X = input_features_before[['sentiment_positive', 'sentiment_neutral', 'sentiment_negative', 'n_requests', 'n_words', \n",
    "               'n_sentences', 'politeness', 'delta_role_politeness', 'delta_time_politeness', 'friendship_length']]\n",
    "X['friendship_length'] = X['friendship_length']  - 3\n",
    "Y = (input_features_before['season_before_betrayal'] == 3.0).values.astype('float32')"
   ]
  },
  {
   "cell_type": "code",
   "execution_count": 35,
   "metadata": {},
   "outputs": [
    {
     "name": "stdout",
     "output_type": "stream",
     "text": [
      "Training model ..\n",
      "Average F1-Score: 0.308\n",
      "Average MMC-Score: 0.108\n",
      "F1-Score: 95% confidence interval 0.079 and 0.478\n",
      "Matthews Corr Coef: 95% confidence interval -0.170 and 0.335\n"
     ]
    }
   ],
   "source": [
    "_, _ = bootstrap_model_prediction(train_and_predict_logistic_regressionl_normalized, 20, stratify=True, model_name=\"\")"
   ]
  },
  {
   "cell_type": "code",
   "execution_count": 36,
   "metadata": {},
   "outputs": [
    {
     "name": "stdout",
     "output_type": "stream",
     "text": [
      "Training model ..\n",
      "Average F1-Score: 0.589\n",
      "Average MMC-Score: 0.512\n",
      "F1-Score: 95% confidence interval 0.174 and 0.817\n",
      "Matthews Corr Coef: 95% confidence interval 0.031 and 0.786\n"
     ]
    }
   ],
   "source": [
    "bootstrap_model_prediction(train_and_predict_random_forest, 20, stratify=True, model_name=\"\")\n",
    "f1_scores.append(f1_score[0])\n",
    "mmc_scores.append(mmc_score[0])"
   ]
  },
  {
   "cell_type": "markdown",
   "metadata": {},
   "source": [
    "## Four seasons before betrayal"
   ]
  },
  {
   "cell_type": "code",
   "execution_count": 37,
   "metadata": {},
   "outputs": [
   ],
   "source": [
    "input_features_before = input_features[input_features['season_before_betrayal'] >= 4]\n",
    "\n",
    "X = input_features_before[['sentiment_positive', 'sentiment_neutral', 'sentiment_negative', 'n_requests', 'n_words', \n",
    "               'n_sentences', 'politeness', 'delta_role_politeness', 'delta_time_politeness', 'friendship_length']]\n",
    "X['friendship_length'] = X['friendship_length'] - 4\n",
    "Y = (input_features_before['season_before_betrayal'] == 4.0).values.astype('float32')"
   ]
  },
  {
   "cell_type": "code",
   "execution_count": 38,
   "metadata": {},
   "outputs": [
    {
     "name": "stdout",
     "output_type": "stream",
     "text": [
      "Training model Logistic Regr..\n",
      "Average F1-Score: 0.442\n",
      "Average MMC-Score: 0.346\n",
      "F1-Score: 95% confidence interval 0.073 and 0.784\n",
      "Matthews Corr Coef: 95% confidence interval -0.029 and 0.746\n"
     ]
    }
   ],
   "source": [
    "_, _ = bootstrap_model_prediction(train_and_predict_logistic_regressionl_normalized, 20, stratify=True, model_name=\"Logistic Regr\")"
   ]
  },
  {
   "cell_type": "code",
   "execution_count": 39,
   "metadata": {},
   "outputs": [
    {
     "name": "stdout",
     "output_type": "stream",
     "text": [
      "Training model ..\n"
     ]
    },
    {
     "name": "stdout",
     "output_type": "stream",
     "text": [
      "Average F1-Score: 0.417\n",
      "Average MMC-Score: nan\n",
      "F1-Score: 95% confidence interval 0.000 and 0.825\n",
      "Matthews Corr Coef: 95% confidence interval -0.084 and 0.777\n"
     ]
    }
   ],
   "source": [
    "bootstrap_model_prediction(train_and_predict_random_forest, 20, stratify=True, model_name=\"\")\n",
    "f1_scores.append(f1_score[0])\n",
    "mmc_scores.append(mmc_score[0])"
   ]
  },
  {
   "cell_type": "markdown",
   "metadata": {},
   "source": [
    "# Let's help the player win!"
   ]
  },
  {
   "cell_type": "markdown",
   "metadata": {},
   "source": [
    "We want to see if we can better predict with confidence the probability of a player to be betrayed in the future considering more than the previous season before betrayal, as we saw that betrayer show sublte signs and changes in behaviour prior to the last season of friendship, implying they might have a long-time horizon strategy within the game."
   ]
  },
  {
   "cell_type": "markdown",
   "metadata": {},
   "source": [
    "### Using two seasons up to betrayal"
   ]
  },
  {
   "cell_type": "code",
   "execution_count": 40,
   "metadata": {},
   "outputs": [],
   "source": [
    "X = input_features[['sentiment_positive', 'sentiment_neutral', 'sentiment_negative', 'n_requests', 'n_words', \n",
    "               'n_sentences', 'politeness', 'delta_role_politeness', 'delta_time_politeness']]\n",
    "Y = (input_features['season_before_betrayal']  <= 2.0).values.astype('int')"
   ]
  },
  {
   "cell_type": "code",
   "execution_count": 41,
   "metadata": {},
   "outputs": [
    {
     "name": "stdout",
     "output_type": "stream",
     "text": [
      "Training model Logistic Regr..\n",
      "Average F1-Score: 0.629\n",
      "Average MMC-Score: 0.356\n",
      "F1-Score: 95% confidence interval 0.451 and 0.827\n",
      "Matthews Corr Coef: 95% confidence interval 0.077 and 0.675\n"
     ]
    }
   ],
   "source": [
    "f1_scores, mmc_scores = bootstrap_model_prediction(train_and_predict_logistic_regressionl_normalized, 20, stratify=True, model_name=\"Logistic Regr\")"
   ]
  },
  {
   "cell_type": "code",
   "execution_count": 42,
   "metadata": {},
   "outputs": [
    {
     "name": "stdout",
     "output_type": "stream",
     "text": [
      "Training model Random Forest..\n",
      "Average F1-Score: 0.600\n",
      "Average MMC-Score: 0.360\n",
      "F1-Score: 95% confidence interval 0.548 and 0.664\n",
      "Matthews Corr Coef: 95% confidence interval 0.279 and 0.456\n"
     ]
    }
   ],
   "source": [
    "f1_scores, mmc_scores =  bootstrap_model_prediction(train_and_predict_random_forest, 4, stratify=False, model_name=\"Random Forest\")"
   ]
  },
  {
   "cell_type": "markdown",
   "metadata": {},
   "source": [
    "### Using three seasons up to betrayal"
   ]
  },
  {
   "cell_type": "code",
   "execution_count": 43,
   "metadata": {},
   "outputs": [],
   "source": [
    "X = input_features[['sentiment_positive', 'sentiment_neutral', 'sentiment_negative', 'n_requests', 'n_words', \n",
    "               'n_sentences', 'politeness', 'delta_role_politeness', 'delta_time_politeness', 'friendship_length']]\n",
    "Y = (input_features['season_before_betrayal']  <= 3.0).values.astype('int')"
   ]
  },
  {
   "cell_type": "code",
   "execution_count": 44,
   "metadata": {},
   "outputs": [
    {
     "name": "stdout",
     "output_type": "stream",
     "text": [
      "Training model Logistic Regr..\n",
      "Average F1-Score: 0.619\n",
      "Average MMC-Score: 0.305\n",
      "F1-Score: 95% confidence interval 0.460 and 0.758\n",
      "Matthews Corr Coef: 95% confidence interval 0.012 and 0.532\n"
     ]
    }
   ],
   "source": [
    "f1_scores, mmc_scores = bootstrap_model_prediction(train_and_predict_logistic_regressionl_normalized, 20, stratify=True, model_name=\"Logistic Regr\")"
   ]
  },
  {
   "cell_type": "code",
   "execution_count": 45,
   "metadata": {},
   "outputs": [
    {
     "name": "stdout",
     "output_type": "stream",
     "text": [
      "Training model Random Forest..\n",
      "Average F1-Score: 0.608\n",
      "Average MMC-Score: 0.285\n",
      "F1-Score: 95% confidence interval 0.462 and 0.723\n",
      "Matthews Corr Coef: 95% confidence interval 0.016 and 0.466\n"
     ]
    }
   ],
   "source": [
    "f1_scores, mmc_scores = bootstrap_model_prediction(train_and_predict_random_forest, 5, stratify=False, model_name=\"Random Forest\")"
   ]
  }
 ],
 "metadata": {
  "kernelspec": {
   "display_name": "Python 3",
   "language": "python",
   "name": "python3"
  },
  "language_info": {
   "codemirror_mode": {
    "name": "ipython",
    "version": 3
   },
   "file_extension": ".py",
   "mimetype": "text/x-python",
   "name": "python",
   "nbconvert_exporter": "python",
   "pygments_lexer": "ipython3",
   "version": "3.7.5"
  }
 },
 "nbformat": 4,
 "nbformat_minor": 4
}
